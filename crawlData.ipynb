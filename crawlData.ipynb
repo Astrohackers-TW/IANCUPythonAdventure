{
 "cells": [
  {
   "cell_type": "markdown",
   "metadata": {},
   "source": [
    "## 抓取issues相關資訊 (將資料存成quests.json 以進一步做成任務列表)"
   ]
  },
  {
   "cell_type": "code",
   "execution_count": 1,
   "metadata": {
    "collapsed": false
   },
   "outputs": [],
   "source": [
    "from selenium import webdriver\n",
    "from selenium.webdriver.common.keys import Keys\n",
    "import json\n",
    "\n",
    "driver = webdriver.Firefox()\n",
    "driver.get(\"https://github.com/Astrohackers-TW/IANCUPythonAdventure/issues\") \n",
    "issues = driver.find_elements_by_class_name(\"Box-row-link\") \n",
    "\n",
    "issue_title = []\n",
    "issue_url = []\n",
    "issue_description = []\n",
    "for issue in issues:\n",
    "    issue_title.append(issue.text)\n",
    "    issue_url.append(issue.get_attribute('href'))\n",
    "\n",
    "for url in issue_url:\n",
    "    driver.get(url)\n",
    "    description = driver.find_element_by_css_selector(\".timeline-comment-header+.edit-comment-hide\").text\n",
    "    issue_description.append(description)\n",
    "\n",
    "driver.close()\n",
    "\n",
    "quests = [{'title': title, 'description': description} for title, description in zip(issue_title, issue_description)]\n",
    "with open('quests.json', 'w') as f:\n",
    "    f.write(json.dumps(quests, ensure_ascii=False, indent=1))"
   ]
  },
  {
   "cell_type": "markdown",
   "metadata": {},
   "source": [
    "## 抓取GitHub帳號的大頭貼網址"
   ]
  },
  {
   "cell_type": "code",
   "execution_count": 2,
   "metadata": {
    "collapsed": false
   },
   "outputs": [],
   "source": [
    "from selenium import webdriver\n",
    "import urllib.request\n",
    "import json\n",
    "\n",
    "with open('adventurers_template.json', 'r') as f:\n",
    "    dic_adventurers = json.load(f)\n",
    "\n",
    "driver = webdriver.Firefox()\n",
    "\n",
    "# 更新每個adventurer的avatar\n",
    "for adventurer in list(dic_adventurers.keys()):\n",
    "    driver.get(\"https://github.com/\" + adventurer)\n",
    "    avatar = driver.find_element_by_class_name(\"avatar\").get_attribute('src') \n",
    "    dic_adventurers[adventurer]['avatar'] = avatar\n",
    "\n",
    "driver.close()\n",
    "\n",
    "with open('adventurers.json', 'w') as f:\n",
    "    f.write(json.dumps(dic_adventurers, ensure_ascii=False, indent=1, sort_keys=True))"
   ]
  },
  {
   "cell_type": "markdown",
   "metadata": {},
   "source": [
    "## 抓取GitHub專案contributors的提交數量 (作為等級依據)"
   ]
  },
  {
   "cell_type": "code",
   "execution_count": 3,
   "metadata": {
    "collapsed": false
   },
   "outputs": [],
   "source": [
    "import numpy as np\n",
    "# 更新每個adventurer的level\n",
    "driver = webdriver.Firefox()\n",
    "driver.get(\"https://github.com/Astrohackers-TW/IANCUPythonAdventure/graphs/contributors\") \n",
    "\n",
    "adventurers_name = list(dic_adventurers.keys())\n",
    "contributors = {}\n",
    "names = driver.find_elements_by_class_name(\"aname\") \n",
    "commits = driver.find_elements_by_css_selector(\".cmeta\")\n",
    "driver.close()\n",
    "\n",
    "for n, c in zip(names, commits):\n",
    "    count = int(c.text.split()[0])\n",
    "    if count > 1:\n",
    "        level = int(np.log10(count) / np.log10(2))\n",
    "        this_level_count = 2 ** level\n",
    "    else:\n",
    "        level = 1;\n",
    "        this_level_count = 0 \n",
    "    next_level_count = 2 ** (level + 1)\n",
    "    count_diff = next_level_count - this_level_count\n",
    "    progress = next_level_count - count\n",
    "    progress_percent = 100 * (count_diff - progress) / count_diff\n",
    "    contributors.update({n.text: [str(count), str(level), str(progress), str(progress_percent)]})\n",
    "\n",
    "contributors_name = list(contributors.keys())    \n",
    "for name in adventurers_name:\n",
    "    if name in contributors_name:\n",
    "        dic_adventurers[name]['commits'] = contributors[name][0]\n",
    "        dic_adventurers[name]['level'] = contributors[name][1]\n",
    "        dic_adventurers[name]['progress'] = contributors[name][2]\n",
    "        dic_adventurers[name]['progress_percent'] = contributors[name][3]\n",
    "    \n",
    "with open('adventurers.json', 'w') as f:\n",
    "    f.write(json.dumps(dic_adventurers, ensure_ascii=False, indent=1, sort_keys=True))"
   ]
  }
 ],
 "metadata": {
  "anaconda-cloud": {},
  "kernelspec": {
   "display_name": "Python [Root]",
   "language": "python",
   "name": "Python [Root]"
  },
  "language_info": {
   "codemirror_mode": {
    "name": "ipython",
    "version": 3
   },
   "file_extension": ".py",
   "mimetype": "text/x-python",
   "name": "python",
   "nbconvert_exporter": "python",
   "pygments_lexer": "ipython3",
   "version": "3.5.2"
  }
 },
 "nbformat": 4,
 "nbformat_minor": 0
}
