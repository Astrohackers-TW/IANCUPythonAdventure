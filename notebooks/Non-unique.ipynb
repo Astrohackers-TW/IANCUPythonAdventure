{
 "cells": [
  {
   "cell_type": "markdown",
   "metadata": {},
   "source": [
    "# 問題：去掉 list中不重複的數字\n",
    "### 例如輸入 [ 1, 1, 2, 3, 3]，2沒有重複出現，所以要去掉 2，回傳 [ 1, 1, 3, 3]\n",
    "### 限制：只能用原生 python，numpy之類的東西不能用\n",
    "\n",
    "\n",
    "解題想法：\n",
    "1. 找出 list中，會重複出現的元素。可以用 count()方法來解\n",
    "2. 開個空 list，把 1的結果存起來。可以用 append()方法\n",
    "3. 寫個 for迴圈，把所有元素都跑過一次"
   ]
  },
  {
   "cell_type": "code",
   "execution_count": null,
   "metadata": {
    "collapsed": true
   },
   "outputs": [],
   "source": [
    "def Non_unique(numlist):\n",
    "    result=[]\n",
    "    for n in numlist:\n",
    "        n_replicate=numlist.count(n)\n",
    "        if n_replicate >= 2:\n",
    "            result.append(n)\n",
    "    return result"
   ]
  },
  {
   "cell_type": "markdown",
   "metadata": {
    "collapsed": false
   },
   "source": [
    "上面的程式碼邏輯清楚，不過有點落落長... \n",
    "python有個典型的句型可以套用這樣的邏輯，句型如下：\n",
    "\n",
    "* [元素 for 元素 in list 條件]\n",
    "\n",
    "條件通常是 if 敘述\n",
    "所以剛剛那串落落長可以簡化為下面的 python code"
   ]
  },
  {
   "cell_type": "code",
   "execution_count": null,
   "metadata": {
    "collapsed": true
   },
   "outputs": [],
   "source": [
    "def comlist(numlist):\n",
    "    return [num for num in numlist if numlist.count(num) > 1]"
   ]
  },
  {
   "cell_type": "markdown",
   "metadata": {},
   "source": [
    "簡潔多了，而且邏輯輪廓也是相當清楚。這類句型稱為 **comprehensive list** \n",
    "\n",
    "這樣的 pattern在 python和其他語言中還蠻常見，所以請多多利用。\n",
    "\n",
    "接下來介紹一個叫 $\\lambda$ 的東西。一般我們寫函式都是寫在主程式的外面，比方說 \n",
    "```\n",
    "def 函式名():\n",
    "    ....韓式內容....\n",
    "    烤肉\n",
    "    人蔘雞\n",
    "    年糕\n",
    "    return 帳單\n",
    "\n",
    "主程式\n",
    "    主程式內容\n",
    "    call函式\n",
    "```\n",
    "\n",
    "不過~~人懶起來~~，規矩都不管了，有人就想說那可以把函式內嵌在主程式中嗎？\n",
    "\n",
    "然後 $\\lambda$就生出來了，這樣的函式又稱為 **anonymous function**，~~有沒有很神秘，很駭客呢~~... \n",
    "\n",
    "廢話不多說，先介紹用法：\n",
    "```python\n",
    "變數 = lambda 參數: 運算內容\n",
    "```\n",
    "\n",
    "在這個例子裡，參數是輸入的 list，運算內容就 copy剛剛前面的 comprehensive list用法，寫好後如下："
   ]
  },
  {
   "cell_type": "code",
   "execution_count": null,
   "metadata": {
    "collapsed": false
   },
   "outputs": [],
   "source": [
    "lambda_unique=lambda numlist:[num for num in numlist if numlist.count(num)>1]"
   ]
  },
  {
   "cell_type": "markdown",
   "metadata": {
    "collapsed": false
   },
   "source": [
    "有沒有看不懂呢？~~沒錯！看不懂就對了...~~\n",
    "\n",
    "lambda 的優點就是讓程式碼簡潔，不過也增加維護的門檻，使用時機存乎一心。\n",
    "\n",
    "不過熟悉 **$\\lambda$**語法對日後想要入門 functional programming 也許有幫助，各位參酌使用"
   ]
  },
  {
   "cell_type": "markdown",
   "metadata": {
    "collapsed": false
   },
   "source": [
    "### 換個想法\n",
    "\n",
    "好，以上從落落長變一行。但這只是招式的變化，心法 (邏輯) 是沒有變化的。\n",
    "這個解題思路的優點就是簡單直白~~你懂的... 蠢~~，缺點是它必須要掃過 list中所有的元素最後才能吐出結果，這導致許多不必要的運算。所以，po文前真的要多想三秒鐘啊~~ 也許會有更好的解...\n",
    "\n",
    "所以呢，我想了另一個解題思路，盡量減少重複運算的問題，思路如下：\n",
    "\n",
    "1. 抓出輸入 list中，所有的組成元素，比方說 [1,1,2,3]的組成元素是 [1,2,3]，而 [5,4,5,5,2]的組成元素是 [2,4,5]。可以用 set()方法得到\n",
    "2. 寫個 for迴圈，迴圈次數 = 組成元素個數\n",
    "3. 每次迴圈中，使用 count()方法去找符合該次組成元素的數量\n",
    "4. 如果數量 = 1，用 remove()方法移除這個組成元素\n",
    "\n",
    "因為迴圈數降低了，不再需要跑整個 list，整體的效能將會提升，特別是當 list很長的時候"
   ]
  },
  {
   "cell_type": "code",
   "execution_count": null,
   "metadata": {
    "collapsed": false
   },
   "outputs": [],
   "source": [
    "def better_unique(numlist):\n",
    "    for n in list(set(numlist)):\n",
    "        n_replicate=numlist.count(n)\n",
    "        if n_replicate ==1:\n",
    "            numlist.remove(n)\n",
    "    return numlist"
   ]
  },
  {
   "cell_type": "markdown",
   "metadata": {
    "collapsed": false
   },
   "source": [
    "### 想是這麼想，但是不是真的有用呢？讓我們來試試看...\n",
    "\n",
    "現在我們有三種 (笨) 方法：\n",
    "* Non_unique -- 簡單直白\n",
    "* comlist -- comprehensive list法\n",
    "* lambda_unique -- anonymous function法，使用 lambda\n",
    "\n",
    "以及一個稍微聰明一點的方法：\n",
    "* better_unique\n",
    "\n",
    "接下來我們可以用 %timeit 這個東西來檢查這四個函式的效能如何..."
   ]
  },
  {
   "cell_type": "code",
   "execution_count": null,
   "metadata": {
    "collapsed": false
   },
   "outputs": [],
   "source": [
    "#先隨便給個小 list\n",
    "alist=[1, 1, 6, 7, 9, 2, 5, 4, 5, 2, 3] "
   ]
  },
  {
   "cell_type": "code",
   "execution_count": null,
   "metadata": {
    "collapsed": false
   },
   "outputs": [],
   "source": [
    "%timeit Non_unique(alist)"
   ]
  },
  {
   "cell_type": "markdown",
   "metadata": {},
   "source": [
    "上面的訊息是說:\n",
    "1. 執行了 100000次, 記錄執行時間\n",
    "2. 執行了 100000次, 記錄執行時間\n",
    "3. 執行了 100000次, 記錄執行時間\n",
    "4. 把 1. 2. 3.最短的時間拿出來，除以 100000，就得到一次計算所花的時間為 3.64 $\\mu$s\n",
    "timeit 依照執行時間的多寡自動分配，花時間的程式會執行少一點...\n",
    "\n",
    "接著把其他的都做一做"
   ]
  },
  {
   "cell_type": "code",
   "execution_count": null,
   "metadata": {
    "collapsed": false
   },
   "outputs": [],
   "source": [
    "%timeit comlist(alist)"
   ]
  },
  {
   "cell_type": "code",
   "execution_count": null,
   "metadata": {
    "collapsed": false
   },
   "outputs": [],
   "source": [
    "%timeit lambda_unique(alist)"
   ]
  },
  {
   "cell_type": "code",
   "execution_count": null,
   "metadata": {
    "collapsed": false
   },
   "outputs": [],
   "source": [
    "%timeit better_unique(alist)"
   ]
  },
  {
   "cell_type": "markdown",
   "metadata": {},
   "source": [
    "不論招式如何，笨方法的執行時間大約是 3.6~3.7 $\\mu$s，而聰明法的執行時間則是 1.3~1.4 $\\mu$s。\n",
    "\n",
    "這告訴我們雖然招式不同，不過進到機器底層的計算是差不多的。用好的演算法對效能的提升很有幫助。\n",
    "\n",
    "讓我們來看看當 list變很長的時候會怎樣"
   ]
  },
  {
   "cell_type": "code",
   "execution_count": 1,
   "metadata": {
    "collapsed": false
   },
   "outputs": [
    {
     "name": "stdout",
     "output_type": "stream",
     "text": [
      "0.5046785714285714\n"
     ]
    }
   ],
   "source": [
    "# 亂數產生一個值域在 1~100，一次產生 10個亂數，重複兩千次的 list，所以 list 長度是兩萬。\n",
    "# 長度可以自己改... 迴圈別改太多 (> 2000) 不然測試跑會很久\n",
    "import random\n",
    "x=[]\n",
    "n=2000\n",
    "for i in range(n):\n",
    "    y=random.sample(range(9*n),10+4)\n",
    "    x.extend(y)\n",
    "\n",
    "print(len(set(x))/len(x)) #單一值和重複值的比例大約一半一半"
   ]
  },
  {
   "cell_type": "code",
   "execution_count": null,
   "metadata": {
    "collapsed": false
   },
   "outputs": [],
   "source": [
    "y=x\n",
    "%timeit Non_unique(y)"
   ]
  },
  {
   "cell_type": "code",
   "execution_count": null,
   "metadata": {
    "collapsed": false
   },
   "outputs": [],
   "source": [
    "y=x\n",
    "%timeit comlist(y)"
   ]
  },
  {
   "cell_type": "code",
   "execution_count": null,
   "metadata": {
    "collapsed": false
   },
   "outputs": [],
   "source": [
    "y=x\n",
    "%timeit lambda_unique(y)"
   ]
  },
  {
   "cell_type": "code",
   "execution_count": null,
   "metadata": {
    "collapsed": false
   },
   "outputs": [],
   "source": [
    "y=x\n",
    "%timeit better_unique(y)"
   ]
  },
  {
   "cell_type": "markdown",
   "metadata": {},
   "source": [
    "### 果然，list一長，笨方法就 hold不住了，換個想法再試試看\n",
    "\n",
    "不過要快，還要知道使用正確的工具，不然再怎麼神妙的劍法心法，威力還是比不上 ~~新阿姆斯特朗旋風噴射阿姆斯特朗砲~~ 的... 請看以下範例"
   ]
  },
  {
   "cell_type": "code",
   "execution_count": 2,
   "metadata": {
    "collapsed": false
   },
   "outputs": [],
   "source": [
    "# from Checkio \"O(n) :-P\" by \"Veky\"\n",
    "# https://checkio.org/mission/non-unique-elements/publications/veky/python-3/on-p/?ordering=most_voted\n",
    "from collections import Counter\n",
    "def counter_unique(data):\n",
    "    nonunique = Counter(data) - Counter(set(data))\n",
    "    return [x for x in data if x in nonunique]"
   ]
  },
  {
   "cell_type": "code",
   "execution_count": 3,
   "metadata": {
    "collapsed": false
   },
   "outputs": [
    {
     "name": "stdout",
     "output_type": "stream",
     "text": [
      "100 loops, best of 3: 17 ms per loop\n"
     ]
    }
   ],
   "source": [
    "y=x\n",
    "%timeit counter_unique(y)"
   ]
  },
  {
   "cell_type": "markdown",
   "metadata": {},
   "source": [
    "下面是 veky提供的另一解，基本上是做一個 tuple來放兩個 set，一個存看過的(seen)，一個存不是唯一的 (nonunique)\n",
    "\n",
    "但為什麼也可以這麼快我就不太懂，因為是 tuple?... Orz"
   ]
  },
  {
   "cell_type": "code",
   "execution_count": 4,
   "metadata": {
    "collapsed": false
   },
   "outputs": [],
   "source": [
    "# from Checkio \"Two bins\" by \"Veky\"\n",
    "#https://checkio.org/mission/non-unique-elements/publications/veky/python-3/two-bins/?ordering=most_voted\n",
    "def two_bins(sequence):\n",
    "    bins = seen, nonunique = set(), set()  #指定 bins = (set(), set()), 第一個叫 seen, 第二個叫 nonunique\n",
    "    for number in sequence:bins[number in seen].add(number) \n",
    "    return [number for number in sequence if number in nonunique]"
   ]
  },
  {
   "cell_type": "code",
   "execution_count": 5,
   "metadata": {
    "collapsed": false
   },
   "outputs": [
    {
     "name": "stdout",
     "output_type": "stream",
     "text": [
      "100 loops, best of 3: 7 ms per loop\n"
     ]
    }
   ],
   "source": [
    "y=x\n",
    "%timeit two_bins(y)"
   ]
  },
  {
   "cell_type": "markdown",
   "metadata": {},
   "source": [
    "不像 veky那麼神，又想要加速的話，anaconda提供一個叫 numba的~~作弊器~~，在不改 code的情況下加速。用法也很簡單... 如下"
   ]
  },
  {
   "cell_type": "code",
   "execution_count": null,
   "metadata": {
    "collapsed": true
   },
   "outputs": [],
   "source": [
    "from numba import jit\n",
    "@jit\n",
    "def fast_Non_unique(numlist):\n",
    "    result=[]\n",
    "    for n in numlist:\n",
    "        n_replicate=numlist.count(n)\n",
    "        if n_replicate >= 2:\n",
    "            result.append(n)\n",
    "    return result"
   ]
  },
  {
   "cell_type": "code",
   "execution_count": null,
   "metadata": {
    "collapsed": false
   },
   "outputs": [],
   "source": [
    "y=x\n",
    "%timeit fast_Non_unique(y)"
   ]
  },
  {
   "cell_type": "code",
   "execution_count": null,
   "metadata": {
    "collapsed": false
   },
   "outputs": [],
   "source": [
    "from numba import jit\n",
    "@jit\n",
    "def fast_better_unique(numlist):\n",
    "    for n in list(set(numlist)):\n",
    "        n_replicate=numlist.count(n)\n",
    "        if n_replicate ==1:\n",
    "            numlist.remove(n)\n",
    "    return numlist"
   ]
  },
  {
   "cell_type": "code",
   "execution_count": null,
   "metadata": {
    "collapsed": false
   },
   "outputs": [],
   "source": [
    "y=x\n",
    "%timeit fast_better_unique(y)"
   ]
  },
  {
   "cell_type": "code",
   "execution_count": null,
   "metadata": {
    "collapsed": false
   },
   "outputs": [],
   "source": []
  }
 ],
 "metadata": {
  "anaconda-cloud": {},
  "kernelspec": {
   "display_name": "Python [python3]",
   "language": "python",
   "name": "Python [python3]"
  },
  "language_info": {
   "codemirror_mode": {
    "name": "ipython",
    "version": 3
   },
   "file_extension": ".py",
   "mimetype": "text/x-python",
   "name": "python",
   "nbconvert_exporter": "python",
   "pygments_lexer": "ipython3",
   "version": "3.5.2"
  }
 },
 "nbformat": 4,
 "nbformat_minor": 0
}
