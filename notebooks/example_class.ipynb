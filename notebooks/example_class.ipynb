{
 "cells": [
  {
   "cell_type": "markdown",
   "metadata": {},
   "source": [
    "# 物件導向概念筆記 -- python\n",
    "\n",
    "先說，我的 OO 是從 JAVA開始接觸的，所以有些哲學也許不太 python...\n",
    "\n",
    "## 什麼是 \"物件\" (object)？\n",
    "沒什麼，就字面上的意思，很籠統很模糊。以日常生活的經驗來說，物件可以是任何東西，比方說某隻狗，某張桌子，某個人，某個團體... 隨便任何一個東西。以寫程式的角度來說，一個函式、變數都可以是物件。\n",
    "\n",
    "## 什麼是 \"類別\" (class)？\n",
    "用來描述/定義物件的東西。裡面通常會有屬性與方法兩種內容。屬性是名詞，方法是動詞。比方說我們可以寫個 \"人\" 這個類別，像是 \"姓名\"，\"年齡\"，\"性別\" 這些像名詞的，就是人類別的屬性。而 \"說話\"，\"睡覺\"，\"跑步\" 這些有動作的，就是人類別中的方法。\n",
    "\n",
    "\n",
    "# 物件導向的特性 -- 繼承，封裝，多型\n",
    "\n",
    "很重要，很抽象，很高大上，所以寫大字一點，不懂沒關係，會烙話就威猛一百倍... (誤)\n",
    "\n",
    "========================== 分隔線 ===============================\n",
    "\n",
    "## 以下演示 \"繼承\" 特性\n",
    "\n",
    "\n",
    "## 建立 class與繼承\n",
    "\n",
    "### 背景\n",
    "既然手機沒辦法玩 Pokemon，就自己來隨便寫寫吧... (誤)\n",
    "\n",
    "我建立了三個 class，分別是 Pokemon、mouse、和 frog。其中 Pokemon是父類別，mouse和 frog是子類別\n",
    "\n",
    "### 先看父類別 -- Pokemon\n",
    "Pokemon中有一個屬性和三個方法，屬性的 status 表示 Pokemon的狀態為野生或馴服。三個方法是 tam、bark、和 ability。其中 tam是用來改變 class屬性的，呼叫 tam會要求輸入 owner和 name兩個字串，並修改/增加 class的屬性。\n",
    "\n",
    "因為每種怪獸的叫聲和能力都不同，所以我寫了bark和 ability的方法名稱，但沒有定義任何內容，而是給子類別的 mouse和 frog去實作。如果寫子類別的人忘記實作這兩個方法，python會吐 NotImplementedError 的錯誤訊息\n",
    "\n",
    "### 子類別 -- mouse 和 frog\n",
    "python的繼承就是在 class的括號中放進父類別的名字。之後子類別就自動擁有一切父類別的屬性與方法。所以，我們就不需要在子類別裡寫 tam方法。不過，bark和 ability是要在此實作。"
   ]
  },
  {
   "cell_type": "code",
   "execution_count": 108,
   "metadata": {
    "collapsed": true
   },
   "outputs": [],
   "source": [
    "class Pokemon():\n",
    "    status=\"wild\"  #初始 status為野生\n",
    "    def tam(self,owner,name):\n",
    "        self.owner=owner  #擁有者\n",
    "        self.name=name    #取名字\n",
    "        self.status=\"tamed\" #改變 status為馴化\n",
    "    def bark():\n",
    "        raise NotImplementedError #留給子類別實作\n",
    "    def ability():\n",
    "        raise NotImplementedError #留給子類別實作"
   ]
  },
  {
   "cell_type": "code",
   "execution_count": 109,
   "metadata": {
    "collapsed": false
   },
   "outputs": [],
   "source": [
    "class mouse(Pokemon):\n",
    "    def bark(self):\n",
    "        print(\"Pica~ Pica~\")\n",
    "    def ability(self):\n",
    "        print(\"I can discharge!\")"
   ]
  },
  {
   "cell_type": "code",
   "execution_count": 110,
   "metadata": {
    "collapsed": true
   },
   "outputs": [],
   "source": [
    "class frog(Pokemon):\n",
    "    def bark(self):\n",
    "        print(\"Croak! Croak!\")\n",
    "    def ability(self):\n",
    "        print(\"I can swim~\")"
   ]
  },
  {
   "cell_type": "code",
   "execution_count": 111,
   "metadata": {
    "collapsed": false
   },
   "outputs": [
    {
     "name": "stdout",
     "output_type": "stream",
     "text": [
      "Pica~ Pica~\n",
      "I can discharge!\n",
      "Pika\n",
      "Poshih\n"
     ]
    }
   ],
   "source": [
    "pika=mouse()\n",
    "pika.tam(\"Poshih\",\"Pika\")\n",
    "pika.bark()\n",
    "pika.ability()\n",
    "print(pika.name)\n",
    "print(pika.owner)"
   ]
  },
  {
   "cell_type": "code",
   "execution_count": 132,
   "metadata": {
    "collapsed": false
   },
   "outputs": [
    {
     "name": "stdout",
     "output_type": "stream",
     "text": [
      "Croak! Croak!\n",
      "wild\n"
     ]
    }
   ],
   "source": [
    "妙蛙=frog()\n",
    "妙蛙.bark()\n",
    "print(妙蛙.status) #還沒馴化, 所以是 wild, 也不會有 owner和 name這兩個屬性, 可以試試 print(妙蛙.name)會怎樣"
   ]
  },
  {
   "cell_type": "markdown",
   "metadata": {},
   "source": [
    "## 範例 2\n",
    "### 人事薪資小程式\n",
    "屬性: 時薪, 加班時薪\n",
    "方法: 人事資料, 計算薪資\n",
    "繼承樹: employee --> labor --> manager"
   ]
  },
  {
   "cell_type": "code",
   "execution_count": 125,
   "metadata": {
    "collapsed": true
   },
   "outputs": [],
   "source": [
    "class employee():\n",
    "    rate=5.\n",
    "    over=2.*rate\n",
    "    def person_info(self,name,age,sex):\n",
    "        self.name=name\n",
    "        self.age=age\n",
    "        self.sex=sex\n",
    "    def salary():\n",
    "        raise NotImplementedError\n",
    "        "
   ]
  },
  {
   "cell_type": "code",
   "execution_count": 126,
   "metadata": {
    "collapsed": true
   },
   "outputs": [],
   "source": [
    "class labor(employee):\n",
    "    rate=10.\n",
    "    over=2.*rate\n",
    "    def salary(self,hours):\n",
    "        if hours <= 8:\n",
    "            money=self.rate*hours\n",
    "        else:\n",
    "            money=self.rate*(8.)+self.over*(hours-8.)\n",
    "        return money    "
   ]
  },
  {
   "cell_type": "code",
   "execution_count": 127,
   "metadata": {
    "collapsed": true
   },
   "outputs": [],
   "source": [
    "class manager(labor):\n",
    "    bonus=100.\n",
    "    rate=20.\n",
    "    def salary(self,hours,cases):\n",
    "        money=super().salary(hours)+(self.bonus*cases)\n",
    "        return money"
   ]
  },
  {
   "cell_type": "code",
   "execution_count": 128,
   "metadata": {
    "collapsed": false
   },
   "outputs": [],
   "source": [
    "p1=labor()\n",
    "p1.person_info('John',24,'Male')"
   ]
  },
  {
   "cell_type": "code",
   "execution_count": 129,
   "metadata": {
    "collapsed": false
   },
   "outputs": [
    {
     "data": {
      "text/plain": [
       "120.0"
      ]
     },
     "execution_count": 129,
     "metadata": {},
     "output_type": "execute_result"
    }
   ],
   "source": [
    "p1.salary(10.)"
   ]
  },
  {
   "cell_type": "code",
   "execution_count": 130,
   "metadata": {
    "collapsed": false
   },
   "outputs": [],
   "source": [
    "p2=manager()\n",
    "p2.person_info('Mary',55,'Female')"
   ]
  },
  {
   "cell_type": "code",
   "execution_count": 131,
   "metadata": {
    "collapsed": false
   },
   "outputs": [
    {
     "data": {
      "text/plain": [
       "500.0"
      ]
     },
     "execution_count": 131,
     "metadata": {},
     "output_type": "execute_result"
    }
   ],
   "source": [
    "p2.salary(10.,3)"
   ]
  },
  {
   "cell_type": "code",
   "execution_count": null,
   "metadata": {
    "collapsed": true
   },
   "outputs": [],
   "source": []
  }
 ],
 "metadata": {
  "kernelspec": {
   "display_name": "Python [python3]",
   "language": "python",
   "name": "Python [python3]"
  },
  "language_info": {
   "codemirror_mode": {
    "name": "ipython",
    "version": 3
   },
   "file_extension": ".py",
   "mimetype": "text/x-python",
   "name": "python",
   "nbconvert_exporter": "python",
   "pygments_lexer": "ipython3",
   "version": "3.5.2"
  }
 },
 "nbformat": 4,
 "nbformat_minor": 0
}
