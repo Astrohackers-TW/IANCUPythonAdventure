{
 "cells": [
  {
   "cell_type": "markdown",
   "metadata": {},
   "source": [
    "# 機率分佈\n",
    "用NumPy, SciPy, Matplotlib, astroML等套件畫出以下機率分佈， 並算出該分佈的平均值、變異數， 然後將分佈的數學式子標示在圖上。"
   ]
  },
  {
   "cell_type": "markdown",
   "metadata": {},
   "source": [
    "## Binomial distribution"
   ]
  },
  {
   "cell_type": "code",
   "execution_count": 1,
   "metadata": {
    "collapsed": true
   },
   "outputs": [],
   "source": [
    "# 請把程式碼填在此"
   ]
  },
  {
   "cell_type": "markdown",
   "metadata": {},
   "source": [
    "## Poisson distribution"
   ]
  },
  {
   "cell_type": "code",
   "execution_count": 2,
   "metadata": {
    "collapsed": true
   },
   "outputs": [],
   "source": [
    "# 請把程式碼填在此"
   ]
  },
  {
   "cell_type": "markdown",
   "metadata": {},
   "source": [
    "## Gaussian (Normal) distribution"
   ]
  },
  {
   "cell_type": "code",
   "execution_count": 3,
   "metadata": {
    "collapsed": true
   },
   "outputs": [],
   "source": [
    "# 請把程式碼填在此"
   ]
  },
  {
   "cell_type": "markdown",
   "metadata": {},
   "source": [
    "## Gamma distribution"
   ]
  },
  {
   "cell_type": "code",
   "execution_count": 4,
   "metadata": {
    "collapsed": false
   },
   "outputs": [
    {
     "data": {
      "image/png": "[encoded data removed]",
      "text/plain": [
       "<matplotlib.figure.Figure at 0xb5bfac8>"
      ]
     },
     "metadata": {},
     "output_type": "display_data"
    }
   ],
   "source": [
    "import matplotlib.pyplot as plt\n",
    "import scipy.special as sps\n",
    "import numpy as np\n",
    "import pandas as pd\n",
    "from scipy.stats import gamma\n",
    "\n",
    "# 創建 list 來裝數據\n",
    "gamma_shape_scale = []\n",
    "gamma_mean = []\n",
    "gamma_variance = []\n",
    "\n",
    "def gammadist(shape, scale):\n",
    "    # 產生 gamma distribution 隨機數據並排序\n",
    "    x = np.sort(np.random.gamma(shape, scale, 5000))\n",
    "    # 將產生的數據 x 帶入 gamma distribution 公式\n",
    "    y = x ** (shape - 1) * (np.exp(-x / scale) / (sps.gamma(shape) * scale ** shape))\n",
    "    \n",
    "    # 將 x, y 繪製出來\n",
    "    plt.plot(x, y, linewidth=1, label=r\"k=%s, $\\theta$=%s\" % (shape, scale))\n",
    "    \n",
    "    # 將 shape, scale, mean, variance 附加至 list 裡面\n",
    "    gamma_shape_scale.append(\"(%s, %s)\" % (shape, scale))\n",
    "    gamma_mean.append(round(np.mean(x), 3))\n",
    "    gamma_variance.append(round(np.var(x), 3))\n",
    "\n",
    "\n",
    "# 帶入不同 shape, scale 參數\n",
    "gammadist(0.5, 1.0)\n",
    "gammadist(1., 2.)\n",
    "gammadist(2., 2.)\n",
    "gammadist(3., 2.)\n",
    "gammadist(5., 1.)\n",
    "gammadist(7.5, 1.0)\n",
    "gammadist(9., 0.5)\n",
    "\n",
    "# 在圖中放入公式\n",
    "plt.text(3, 0.35, r'$p\\left ( x \\right )=x^{k-1}\\frac{e^{-x/\\theta }}{\\theta ^{k}\\Gamma \\left ( k \\right )}$', size=20)\n",
    "# 設定 y 軸 limit\n",
    "plt.ylim(0, 0.5)\n",
    "# 開啟 x, y 軸小格\n",
    "plt.minorticks_on()\n",
    "# 開啟圖例\n",
    "plt.legend()\n",
    "# show 出圖\n",
    "plt.show()"
   ]
  },
  {
   "cell_type": "code",
   "execution_count": 5,
   "metadata": {
    "collapsed": false
   },
   "outputs": [
    {
     "data": {
      "text/html": [
       "<div>\n",
       "<table border=\"1\" class=\"dataframe\">\n",
       "  <thead>\n",
       "    <tr style=\"text-align: right;\">\n",
       "      <th></th>\n",
       "      <th>(k, θ)</th>\n",
       "      <th>Mean</th>\n",
       "      <th>Var</th>\n",
       "    </tr>\n",
       "  </thead>\n",
       "  <tbody>\n",
       "    <tr>\n",
       "      <th>0</th>\n",
       "      <td>(0.5, 1.0)</td>\n",
       "      <td>0.489</td>\n",
       "      <td>0.462</td>\n",
       "    </tr>\n",
       "    <tr>\n",
       "      <th>1</th>\n",
       "      <td>(1.0, 2.0)</td>\n",
       "      <td>2.002</td>\n",
       "      <td>3.892</td>\n",
       "    </tr>\n",
       "    <tr>\n",
       "      <th>2</th>\n",
       "      <td>(2.0, 2.0)</td>\n",
       "      <td>3.920</td>\n",
       "      <td>7.454</td>\n",
       "    </tr>\n",
       "    <tr>\n",
       "      <th>3</th>\n",
       "      <td>(3.0, 2.0)</td>\n",
       "      <td>5.968</td>\n",
       "      <td>11.531</td>\n",
       "    </tr>\n",
       "    <tr>\n",
       "      <th>4</th>\n",
       "      <td>(5.0, 1.0)</td>\n",
       "      <td>4.988</td>\n",
       "      <td>5.120</td>\n",
       "    </tr>\n",
       "    <tr>\n",
       "      <th>5</th>\n",
       "      <td>(7.5, 1.0)</td>\n",
       "      <td>7.514</td>\n",
       "      <td>7.757</td>\n",
       "    </tr>\n",
       "    <tr>\n",
       "      <th>6</th>\n",
       "      <td>(9.0, 0.5)</td>\n",
       "      <td>4.516</td>\n",
       "      <td>2.272</td>\n",
       "    </tr>\n",
       "  </tbody>\n",
       "</table>\n",
       "</div>"
      ],
      "text/plain": [
       "       (k, θ)   Mean     Var\n",
       "0  (0.5, 1.0)  0.489   0.462\n",
       "1  (1.0, 2.0)  2.002   3.892\n",
       "2  (2.0, 2.0)  3.920   7.454\n",
       "3  (3.0, 2.0)  5.968  11.531\n",
       "4  (5.0, 1.0)  4.988   5.120\n",
       "5  (7.5, 1.0)  7.514   7.757\n",
       "6  (9.0, 0.5)  4.516   2.272"
      ]
     },
     "execution_count": 5,
     "metadata": {},
     "output_type": "execute_result"
    }
   ],
   "source": [
    "# 創建一個表格放入 shape, scale, mean, variance\n",
    "df = pd.DataFrame({\"(k, θ)\": gamma_shape_scale, \"Mean\": gamma_mean, \"Var\": gamma_variance})\n",
    "# show 出表格\n",
    "df"
   ]
  },
  {
   "cell_type": "markdown",
   "metadata": {},
   "source": [
    "## Chi-squared distribution"
   ]
  },
  {
   "cell_type": "code",
   "execution_count": 1,
   "metadata": {
    "collapsed": true
   },
   "outputs": [],
   "source": [
    "%matplotlib inline\n",
    "import numpy as np\n",
    "from scipy.stats import chi2\n",
    "from matplotlib import pyplot as plt\n",
    "import random\n",
    "import numpy as np\n",
    "import scipy.stats as stats  "
   ]
  },
  {
   "cell_type": "code",
   "execution_count": 2,
   "metadata": {
    "collapsed": true
   },
   "outputs": [],
   "source": [
    "#k_values = [1, 3, 5, 7, 9]\n",
    "k_values = [1, 2, 3, 4, 5] #各種K值得chisqure分布\n",
    "linestyles = ['-', '--', ':', '-.','']\n",
    "linecolors = ['r','b','g','k','c']\n",
    "mu = 0\n",
    "x = np.linspace(-1, 20, 10000)"
   ]
  },
  {
   "cell_type": "code",
   "execution_count": 3,
   "metadata": {
    "collapsed": false
   },
   "outputs": [
    {
     "data": {
      "image/png": "[encoded data removed]",
      "text/plain": [
       "<matplotlib.figure.Figure at 0x88c1128>"
      ]
     },
     "metadata": {},
     "output_type": "display_data"
    }
   ],
   "source": [
    "fig, ax = plt.subplots(figsize=(5, 3.75))\n",
    "fig.subplots_adjust(bottom=0.12)\n",
    "\n",
    "#for k, ls in zip(k_values, linestyles):\n",
    "#for k, ls in zip(len(k_values), len(linecolors)):\n",
    "for k in range(len(k_values)):\n",
    "    dist = chi2(k_values[k], mu)\n",
    "\n",
    "    plt.plot(x, dist.pdf(x), linestyles[k] ,c=linecolors[k],\n",
    "             label=r'$k={}$'.format(k_values[k]))\n",
    "plt.xlim(0, 10)\n",
    "plt.ylim(0, 0.5)\n",
    "\n",
    "plt.xlabel('$Q$')\n",
    "plt.ylabel(r'$p(Q|k)$')\n",
    "plt.title(r'$\\chi^2\\ \\mathrm{Distribution}$')\n",
    "\n",
    "plt.minorticks_on()\n",
    "\n",
    "plt.legend()\n",
    "\n",
    "plt.show()"
   ]
  },
  {
   "cell_type": "code",
   "execution_count": 4,
   "metadata": {
    "collapsed": false
   },
   "outputs": [
    {
     "data": {
      "image/png": "[encoded data removed]",
      "text/plain": [
       "<matplotlib.figure.Figure at 0x8bb0860>"
      ]
     },
     "metadata": {},
     "output_type": "display_data"
    }
   ],
   "source": [
    "#亂數數據與chisqure distribution\n",
    "norm = stats.norm(0, 1)\n",
    "\n",
    "x1 = norm.rvs(size=100000)**2\n",
    "x2 = norm.rvs(size=100000)**2\n",
    "x3 = norm.rvs(size=100000)**2\n",
    "\n",
    "f = x1 + x2 + x3\n",
    "\n",
    "plt.hist(f, 60, normed=True)\n",
    "\n",
    "x = np.arange(0, 30, .05)\n",
    "plt.plot(x, stats.chi2.pdf(x, df=3), color='r', lw=2)\n",
    "plt.show()"
   ]
  },
  {
   "cell_type": "markdown",
   "metadata": {},
   "source": [
    "## Beta distribution"
   ]
  },
  {
   "cell_type": "code",
   "execution_count": 7,
   "metadata": {
    "collapsed": true
   },
   "outputs": [],
   "source": [
    "# 請把程式碼填在此"
   ]
  },
  {
   "cell_type": "markdown",
   "metadata": {},
   "source": [
    "## Exponential distribution"
   ]
  },
  {
   "cell_type": "code",
   "execution_count": 8,
   "metadata": {
    "collapsed": true
   },
   "outputs": [],
   "source": [
    "# 請把程式碼填在此"
   ]
  },
  {
   "cell_type": "markdown",
   "metadata": {},
   "source": [
    "## Uniform distribution"
   ]
  },
  {
   "cell_type": "code",
   "execution_count": 9,
   "metadata": {
    "collapsed": true
   },
   "outputs": [],
   "source": [
    "# 請把程式碼填在此"
   ]
  }
 ],
 "metadata": {
  "anaconda-cloud": {},
  "kernelspec": {
   "display_name": "Python 2",
   "language": "python",
   "name": "python2"
  },
  "language_info": {
   "codemirror_mode": {
    "name": "ipython",
    "version": 2
   },
   "file_extension": ".py",
   "mimetype": "text/x-python",
   "name": "python",
   "nbconvert_exporter": "python",
   "pygments_lexer": "ipython2",
   "version": "2.7.12"
  }
 },
 "nbformat": 4,
 "nbformat_minor": 0
}
