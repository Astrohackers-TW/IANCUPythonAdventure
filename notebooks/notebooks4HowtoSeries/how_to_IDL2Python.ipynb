{
 "cells": [
  {
   "cell_type": "markdown",
   "metadata": {
    "nbpresent": {
     "id": "f630fdfe-1e43-4f3f-9032-6457807fe037"
    }
   },
   "source": [
    "# IDL函式與Python的對照表"
   ]
  },
  {
   "cell_type": "markdown",
   "metadata": {},
   "source": [
    "## \t常用函式 (未來或許需要分類?)"
   ]
  },
  {
   "cell_type": "markdown",
   "metadata": {},
   "source": [
    "| IDL         |      Python   |  用途 |\n",
    "|-------------|---------------|------|\n",
    "| <a href=\"http://www.harrisgeospatial.com/docs/FILE_SEARCH.html\" target=\"_blank\">file_search</a> | <a href=\"http://www.tutorialspoint.com/python/os_listdir.htm\" target=\"_blank\">os.listdir</a>, <a href=\"https://docs.python.org/3.5/library/glob.html\" target=\"_blank\">glob.glob</a> | 搜尋資料夾下的檔名 |\n",
    "| <a href=\"http://www.harrisgeospatial.com/docs/N_ELEMENTS.html\" target=\"_blank\">n_elements</a>   |   <a href=\"http://www.tutorialspoint.com/python/list_len.htm\" target=\"_blank\">len</a>    | 數陣列裡有幾個元素 |\n",
    "| <a href=\"http://idlastro.gsfc.nasa.gov/ftp/pro/astro/lumdist.pro\" target=\"_blank\">lumdist</a> |  | 計算luminosity distance, from redshift to Mpc |\n",
    "| <a href=\"http://idlastro.gsfc.nasa.gov/ftp/pro/fits/mrdfits.pro\" target=\"_blank\">mrdfits</a> | <a href=\"http://docs.astropy.org/en/stable/io/fits/\" target=\"_blank\">astropy.io.fits</a> | 讀取FITS檔案 |\n",
    "| <a href=\"http://idlastro.gsfc.nasa.gov/ftp/pro/misc/match.pro\" target=\"_blank\">match</a> |    | 查看兩個向量中哪些元素相同 |\n",
    "| <a href=\"http://www.harrisgeospatial.com/docs/STRTRIM.html\" target=\"_blank\">strtrim</a> |    | 將字串前後空白的部分去除 |\n",
    "| <a href=\"https://www.harrisgeospatial.com/docs/strcompress.html\" target=\"_blank\">strcompress</a> |    | 將字串中的空白部分去除 |\n",
    "| <a href=\"http://www.harrisgeospatial.com/docs/OPEN.html\" target=\"_blank\">openr/openu/openw</a> | <a href=\"http://docs.astropy.org/en/stable/io/ascii/index.html\" target=\"_blank\">astropy.io.ascii</a>, <a href=\"http://docs.scipy.org/doc/numpy/reference/routines.io.html\" target=\"_blank\">Input and output routines in NumPy</a>, <a href=\"https://docs.python.org/3/library/functions.html#open\" target=\"_blank\">open</a> | 讀寫檔案 |\n",
    "| <a href=\"http://www.harrisgeospatial.com/docs/SYSTIME.html\" target=\"_blank\">systime</a> |    | 傳回系統時間 |\n",
    "| <a href=\"http://www.harrisgeospatial.com/docs/PLOT3D.html#SYM_FILL\" target=\"_blank\">plot3d</a> |  | 畫3D圖 |\n",
    "| <a href=\"http://www.harrisgeospatial.com/docs/WHERE.html\" target=\"_blank\">where</a> | <a href=\"http://docs.scipy.org/doc/numpy/reference/generated/numpy.where.html\" target=\"_blank\">numpy.where</a> | 傳回符合條件的index |\n",
    "| |  | |\n",
    "| |  | |"
   ]
  },
  {
   "cell_type": "code",
   "execution_count": null,
   "metadata": {
    "collapsed": true
   },
   "outputs": [],
   "source": []
  }
 ],
 "metadata": {
  "anaconda-cloud": {},
  "kernelspec": {
   "display_name": "Python [Root]",
   "language": "python",
   "name": "Python [Root]"
  },
  "language_info": {
   "codemirror_mode": {
    "name": "ipython",
    "version": 3
   },
   "file_extension": ".py",
   "mimetype": "text/x-python",
   "name": "python",
   "nbconvert_exporter": "python",
   "pygments_lexer": "ipython3",
   "version": "3.5.2"
  },
  "nbpresent": {
   "slides": {
    "7388705d-dc92-47c7-8d53-52f806508d40": {
     "id": "7388705d-dc92-47c7-8d53-52f806508d40",
     "prev": "8aae12ec-4286-431b-b81c-482da67c8617",
     "regions": {}
    },
    "8aae12ec-4286-431b-b81c-482da67c8617": {
     "id": "8aae12ec-4286-431b-b81c-482da67c8617",
     "prev": "c7cbc35d-5d19-49e5-a465-271faeca82b8",
     "regions": {}
    },
    "c7cbc35d-5d19-49e5-a465-271faeca82b8": {
     "id": "c7cbc35d-5d19-49e5-a465-271faeca82b8",
     "prev": null,
     "regions": {}
    }
   },
   "themes": {}
  }
 },
 "nbformat": 4,
 "nbformat_minor": 0
}
