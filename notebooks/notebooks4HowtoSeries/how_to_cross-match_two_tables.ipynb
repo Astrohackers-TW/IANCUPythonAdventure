{
 "cells": [
  {
   "cell_type": "code",
   "execution_count": 1,
   "metadata": {
    "collapsed": true
   },
   "outputs": [],
   "source": [
    "from __future__ import division, print_function # 使程式碼兼容 Python 2\n",
    "import time # 計時\n",
    "import numpy as np # 科學運算套件\n",
    "import pandas as pd # 讀取 csv 檔"
   ]
  },
  {
   "cell_type": "markdown",
   "metadata": {},
   "source": [
    "# 載入 tables"
   ]
  },
  {
   "cell_type": "code",
   "execution_count": 2,
   "metadata": {
    "collapsed": true
   },
   "outputs": [],
   "source": [
    "table_a = pd.read_csv('files/table_A.csv')\n",
    "table_b = pd.read_csv('files/table_B.csv')"
   ]
  },
  {
   "cell_type": "code",
   "execution_count": 3,
   "metadata": {
    "collapsed": false,
    "scrolled": true
   },
   "outputs": [
    {
     "data": {
      "text/html": [
       "<div>\n",
       "<style>\n",
       "    .dataframe thead tr:only-child th {\n",
       "        text-align: right;\n",
       "    }\n",
       "\n",
       "    .dataframe thead th {\n",
       "        text-align: left;\n",
       "    }\n",
       "\n",
       "    .dataframe tbody tr th {\n",
       "        vertical-align: top;\n",
       "    }\n",
       "</style>\n",
       "<table border=\"1\" class=\"dataframe\">\n",
       "  <thead>\n",
       "    <tr style=\"text-align: right;\">\n",
       "      <th></th>\n",
       "      <th>ra</th>\n",
       "      <th>dec</th>\n",
       "      <th>z</th>\n",
       "      <th>specObjID</th>\n",
       "      <th>objid</th>\n",
       "      <th>u_mag</th>\n",
       "      <th>g_mag</th>\n",
       "      <th>r_mag</th>\n",
       "      <th>i_mag</th>\n",
       "      <th>z_mag</th>\n",
       "    </tr>\n",
       "  </thead>\n",
       "  <tbody>\n",
       "    <tr>\n",
       "      <th>0</th>\n",
       "      <td>187.27970</td>\n",
       "      <td>-1.193372</td>\n",
       "      <td>0.032031</td>\n",
       "      <td>3.250000e+17</td>\n",
       "      <td>1.240000e+18</td>\n",
       "      <td>19.24800</td>\n",
       "      <td>18.01970</td>\n",
       "      <td>17.60396</td>\n",
       "      <td>17.41241</td>\n",
       "      <td>17.15981</td>\n",
       "    </tr>\n",
       "    <tr>\n",
       "      <th>1</th>\n",
       "      <td>210.76184</td>\n",
       "      <td>-1.094643</td>\n",
       "      <td>0.032493</td>\n",
       "      <td>3.400000e+17</td>\n",
       "      <td>1.240000e+18</td>\n",
       "      <td>18.59815</td>\n",
       "      <td>17.87038</td>\n",
       "      <td>17.66903</td>\n",
       "      <td>17.52236</td>\n",
       "      <td>17.59061</td>\n",
       "    </tr>\n",
       "    <tr>\n",
       "      <th>2</th>\n",
       "      <td>185.74969</td>\n",
       "      <td>-0.293052</td>\n",
       "      <td>0.030245</td>\n",
       "      <td>3.250000e+17</td>\n",
       "      <td>1.240000e+18</td>\n",
       "      <td>19.02032</td>\n",
       "      <td>18.05203</td>\n",
       "      <td>17.60972</td>\n",
       "      <td>17.43984</td>\n",
       "      <td>17.47915</td>\n",
       "    </tr>\n",
       "    <tr>\n",
       "      <th>3</th>\n",
       "      <td>193.52240</td>\n",
       "      <td>0.175311</td>\n",
       "      <td>0.022748</td>\n",
       "      <td>3.290000e+17</td>\n",
       "      <td>1.240000e+18</td>\n",
       "      <td>18.30348</td>\n",
       "      <td>16.88793</td>\n",
       "      <td>16.19267</td>\n",
       "      <td>15.73816</td>\n",
       "      <td>15.40265</td>\n",
       "    </tr>\n",
       "    <tr>\n",
       "      <th>4</th>\n",
       "      <td>222.84758</td>\n",
       "      <td>0.007093</td>\n",
       "      <td>0.023165</td>\n",
       "      <td>3.480000e+17</td>\n",
       "      <td>1.240000e+18</td>\n",
       "      <td>17.55991</td>\n",
       "      <td>15.81113</td>\n",
       "      <td>15.03432</td>\n",
       "      <td>14.67037</td>\n",
       "      <td>14.45513</td>\n",
       "    </tr>\n",
       "  </tbody>\n",
       "</table>\n",
       "</div>"
      ],
      "text/plain": [
       "          ra       dec         z     specObjID         objid     u_mag  \\\n",
       "0  187.27970 -1.193372  0.032031  3.250000e+17  1.240000e+18  19.24800   \n",
       "1  210.76184 -1.094643  0.032493  3.400000e+17  1.240000e+18  18.59815   \n",
       "2  185.74969 -0.293052  0.030245  3.250000e+17  1.240000e+18  19.02032   \n",
       "3  193.52240  0.175311  0.022748  3.290000e+17  1.240000e+18  18.30348   \n",
       "4  222.84758  0.007093  0.023165  3.480000e+17  1.240000e+18  17.55991   \n",
       "\n",
       "      g_mag     r_mag     i_mag     z_mag  \n",
       "0  18.01970  17.60396  17.41241  17.15981  \n",
       "1  17.87038  17.66903  17.52236  17.59061  \n",
       "2  18.05203  17.60972  17.43984  17.47915  \n",
       "3  16.88793  16.19267  15.73816  15.40265  \n",
       "4  15.81113  15.03432  14.67037  14.45513  "
      ]
     },
     "execution_count": 3,
     "metadata": {},
     "output_type": "execute_result"
    }
   ],
   "source": [
    "table_a.head()"
   ]
  },
  {
   "cell_type": "code",
   "execution_count": 4,
   "metadata": {
    "collapsed": false
   },
   "outputs": [
    {
     "data": {
      "text/html": [
       "<div>\n",
       "<style>\n",
       "    .dataframe thead tr:only-child th {\n",
       "        text-align: right;\n",
       "    }\n",
       "\n",
       "    .dataframe thead th {\n",
       "        text-align: left;\n",
       "    }\n",
       "\n",
       "    .dataframe tbody tr th {\n",
       "        vertical-align: top;\n",
       "    }\n",
       "</style>\n",
       "<table border=\"1\" class=\"dataframe\">\n",
       "  <thead>\n",
       "    <tr style=\"text-align: right;\">\n",
       "      <th></th>\n",
       "      <th>wise_ra</th>\n",
       "      <th>wise_dec</th>\n",
       "      <th>sdss_objid</th>\n",
       "      <th>w1</th>\n",
       "      <th>w1err</th>\n",
       "      <th>w1snr</th>\n",
       "      <th>w2</th>\n",
       "      <th>w2err</th>\n",
       "      <th>w2snr</th>\n",
       "      <th>w3</th>\n",
       "      <th>w3err</th>\n",
       "      <th>w3snr</th>\n",
       "      <th>w4</th>\n",
       "      <th>w4err</th>\n",
       "      <th>w4snr</th>\n",
       "    </tr>\n",
       "  </thead>\n",
       "  <tbody>\n",
       "    <tr>\n",
       "      <th>0</th>\n",
       "      <td>0.697183</td>\n",
       "      <td>29.359842</td>\n",
       "      <td>1237663307454874339</td>\n",
       "      <td>14.330</td>\n",
       "      <td>0.030</td>\n",
       "      <td>36.7</td>\n",
       "      <td>14.054</td>\n",
       "      <td>0.046</td>\n",
       "      <td>23.6</td>\n",
       "      <td>12.702</td>\n",
       "      <td>9999.000</td>\n",
       "      <td>-1.5</td>\n",
       "      <td>9.230</td>\n",
       "      <td>9999.0</td>\n",
       "      <td>-1.1</td>\n",
       "    </tr>\n",
       "    <tr>\n",
       "      <th>1</th>\n",
       "      <td>359.329741</td>\n",
       "      <td>32.799931</td>\n",
       "      <td>1237663306916430563</td>\n",
       "      <td>17.363</td>\n",
       "      <td>0.190</td>\n",
       "      <td>5.7</td>\n",
       "      <td>17.097</td>\n",
       "      <td>9999.000</td>\n",
       "      <td>-0.2</td>\n",
       "      <td>12.429</td>\n",
       "      <td>9999.000</td>\n",
       "      <td>1.0</td>\n",
       "      <td>9.065</td>\n",
       "      <td>9999.0</td>\n",
       "      <td>0.5</td>\n",
       "    </tr>\n",
       "    <tr>\n",
       "      <th>2</th>\n",
       "      <td>1.379313</td>\n",
       "      <td>24.340139</td>\n",
       "      <td>1237663306920231248</td>\n",
       "      <td>17.354</td>\n",
       "      <td>0.177</td>\n",
       "      <td>6.1</td>\n",
       "      <td>16.286</td>\n",
       "      <td>0.314</td>\n",
       "      <td>3.5</td>\n",
       "      <td>12.748</td>\n",
       "      <td>9999.000</td>\n",
       "      <td>-0.6</td>\n",
       "      <td>8.721</td>\n",
       "      <td>9999.0</td>\n",
       "      <td>1.0</td>\n",
       "    </tr>\n",
       "    <tr>\n",
       "      <th>3</th>\n",
       "      <td>2.291314</td>\n",
       "      <td>24.765421</td>\n",
       "      <td>1237663307993842580</td>\n",
       "      <td>16.353</td>\n",
       "      <td>0.074</td>\n",
       "      <td>14.7</td>\n",
       "      <td>16.233</td>\n",
       "      <td>0.281</td>\n",
       "      <td>3.9</td>\n",
       "      <td>12.498</td>\n",
       "      <td>9999.000</td>\n",
       "      <td>-0.6</td>\n",
       "      <td>8.351</td>\n",
       "      <td>9999.0</td>\n",
       "      <td>1.6</td>\n",
       "    </tr>\n",
       "    <tr>\n",
       "      <th>4</th>\n",
       "      <td>2.475097</td>\n",
       "      <td>26.254814</td>\n",
       "      <td>1237663308530122881</td>\n",
       "      <td>13.670</td>\n",
       "      <td>0.027</td>\n",
       "      <td>40.8</td>\n",
       "      <td>13.599</td>\n",
       "      <td>0.038</td>\n",
       "      <td>28.6</td>\n",
       "      <td>11.877</td>\n",
       "      <td>0.246</td>\n",
       "      <td>4.4</td>\n",
       "      <td>9.057</td>\n",
       "      <td>9999.0</td>\n",
       "      <td>0.4</td>\n",
       "    </tr>\n",
       "  </tbody>\n",
       "</table>\n",
       "</div>"
      ],
      "text/plain": [
       "      wise_ra   wise_dec           sdss_objid      w1  w1err  w1snr      w2  \\\n",
       "0    0.697183  29.359842  1237663307454874339  14.330  0.030   36.7  14.054   \n",
       "1  359.329741  32.799931  1237663306916430563  17.363  0.190    5.7  17.097   \n",
       "2    1.379313  24.340139  1237663306920231248  17.354  0.177    6.1  16.286   \n",
       "3    2.291314  24.765421  1237663307993842580  16.353  0.074   14.7  16.233   \n",
       "4    2.475097  26.254814  1237663308530122881  13.670  0.027   40.8  13.599   \n",
       "\n",
       "      w2err  w2snr      w3     w3err  w3snr     w4   w4err  w4snr  \n",
       "0     0.046   23.6  12.702  9999.000   -1.5  9.230  9999.0   -1.1  \n",
       "1  9999.000   -0.2  12.429  9999.000    1.0  9.065  9999.0    0.5  \n",
       "2     0.314    3.5  12.748  9999.000   -0.6  8.721  9999.0    1.0  \n",
       "3     0.281    3.9  12.498  9999.000   -0.6  8.351  9999.0    1.6  \n",
       "4     0.038   28.6  11.877     0.246    4.4  9.057  9999.0    0.4  "
      ]
     },
     "execution_count": 4,
     "metadata": {},
     "output_type": "execute_result"
    }
   ],
   "source": [
    "table_b.head()"
   ]
  },
  {
   "cell_type": "code",
   "execution_count": 5,
   "metadata": {
    "collapsed": false
   },
   "outputs": [
    {
     "name": "stdout",
     "output_type": "stream",
     "text": [
      "Table A 有 59574 個樣本\n",
      "Table B 有 129350 個樣本\n"
     ]
    }
   ],
   "source": [
    "print('Table A 有', len(table_a), '個樣本')\n",
    "print('Table B 有', len(table_b), '個樣本')"
   ]
  },
  {
   "cell_type": "code",
   "execution_count": 6,
   "metadata": {
    "collapsed": true
   },
   "outputs": [],
   "source": [
    "ra_a = table_a['ra']\n",
    "dec_a = table_a['dec']\n",
    "\n",
    "ra_b = table_b['wise_ra']\n",
    "dec_b = table_b['wise_dec']"
   ]
  },
  {
   "cell_type": "markdown",
   "metadata": {},
   "source": [
    "# 方法一：簡單交叉配對 (Naive cross-match)"
   ]
  },
  {
   "cell_type": "markdown",
   "metadata": {},
   "source": [
    "### 使用兩層 for 迴圈，並設定 5 角秒的配對距離\n",
    "* 距離 $= \\sqrt{(RA_{ai}-RA_{bi})^{2}+(Dec_{ai}-Dec_{bi})^{2}}$\n",
    "* idx 為 table_a 對應到 table_b 的 index\n",
    "* 例如 table_a 的第1列配對到 table_b 的第53列，idx 就是 53"
   ]
  },
  {
   "cell_type": "code",
   "execution_count": 7,
   "metadata": {
    "collapsed": false,
    "scrolled": true
   },
   "outputs": [],
   "source": [
    "t1_0 = time.time() # 計時器_開始時間\n",
    "\n",
    "idx1 = []\n",
    "for i in range(len(table_a[:1])):\n",
    "    dist1 = []\n",
    "    for j in range(len(table_b)):\n",
    "        dist1.append(np.sqrt((ra_a[i] - ra_b[j])**2 + (dec_a[i] - dec_b[j])**2))\n",
    "    if min(dist1) < (1. / 3600.):\n",
    "        idx1.append(dist1.index(min(dist1)))\n",
    "    else:\n",
    "        idx1.append(-9999)\n",
    "        \n",
    "t1_1 = time.time() # 計時器_結束時間\n",
    "dt1 = t1_1 - t1_0\n",
    "dt1t = dt1 / (len(table_a[:1]) / len(table_a))"
   ]
  },
  {
   "cell_type": "code",
   "execution_count": 8,
   "metadata": {
    "collapsed": false
   },
   "outputs": [
    {
     "name": "stdout",
     "output_type": "stream",
     "text": [
      "配對一個需要花費： 13.9 秒\n",
      "配對全部需要花費： 230.02 小時\n",
      "[62698]\n"
     ]
    }
   ],
   "source": [
    "print('配對一個需要花費：', round(dt1, 2), '秒')\n",
    "print('配對全部需要花費：', round(dt1t / 3600, 2), '小時')\n",
    "print(idx1)"
   ]
  },
  {
   "cell_type": "markdown",
   "metadata": {},
   "source": [
    "# 方法1.5：改用 Numpy array"
   ]
  },
  {
   "cell_type": "code",
   "execution_count": 9,
   "metadata": {
    "collapsed": false
   },
   "outputs": [],
   "source": [
    "t15_0 = time.time() # 計時器_開始時間\n",
    "\n",
    "idx15 = np.zeros_like(ra_a)\n",
    "dist15 = np.zeros_like(ra_a)\n",
    "\n",
    "for i in range(len(table_a[:5000])):\n",
    "    ind = np.where(np.sqrt((ra_b - ra_a[i])**2 + (dec_b - dec_a[i])**2) < (1. / 3600.))[0]\n",
    "    if ind.size == 0:\n",
    "        idx15[i] = -9999\n",
    "        dist15[i] = -9999\n",
    "    else:\n",
    "        idx15[i] = ind[0]\n",
    "        dist15[i] = np.sqrt((ra_b[ind[0]] - ra_a[i])**2 + (dec_b[ind[0]] - dec_a[i])**2)\n",
    "\n",
    "t15_1 = time.time() # 計時器_結束時間\n",
    "dt15 = t15_1 - t15_0\n",
    "dt15t = dt15 / (len(table_a[:5000]) / len(table_a))"
   ]
  },
  {
   "cell_type": "code",
   "execution_count": 10,
   "metadata": {
    "collapsed": false
   },
   "outputs": [
    {
     "name": "stdout",
     "output_type": "stream",
     "text": [
      "配對5000個需要花費： 20.05 秒\n",
      "配對全部需要花費： 238.85 秒\n",
      "[  62698.   -9999.   61225.   -9999.   81327.   87556.   89451.   -9999.\n",
      "   -9999.  111927.  122692.   -9999.   58221.   70848.  105645.   -9999.\n",
      "   59439.   69199.   73789.  105999.]\n"
     ]
    }
   ],
   "source": [
    "print('配對5000個需要花費：', round(dt15, 2), '秒')\n",
    "print('配對全部需要花費：', round(dt15t, 2), '秒')\n",
    "print(idx15[:20])"
   ]
  },
  {
   "cell_type": "markdown",
   "metadata": {},
   "source": [
    "# 方法二：Astropy 交叉配對"
   ]
  },
  {
   "cell_type": "code",
   "execution_count": 11,
   "metadata": {
    "collapsed": true
   },
   "outputs": [],
   "source": [
    "from astropy.coordinates import SkyCoord # astropy的座標套件\n",
    "from astropy import units as u # astropy的單位套件"
   ]
  },
  {
   "cell_type": "code",
   "execution_count": 12,
   "metadata": {
    "collapsed": false
   },
   "outputs": [],
   "source": [
    "t2_0 = time.time() # 計時器_開始時間\n",
    "\n",
    "# 座標輸入\n",
    "ca = SkyCoord(ra_a*u.deg, dec_a*u.deg)\n",
    "cb = SkyCoord(ra_b*u.deg, dec_b*u.deg)\n",
    "\n",
    "# 配對並計算相差距離\n",
    "idx2, d2d, d3d = ca.match_to_catalog_sky(cb)\n",
    "matches = cb[idx2]\n",
    "dra, ddec = ca.spherical_offsets_to(matches)\n",
    "\n",
    "# 設定配對\n",
    "idx2_new = idx2[d2d < 5 * u.arcsec]\n",
    "\n",
    "t2_1 = time.time() # 計時器_結束時間\n",
    "dt2 = t2_1 - t2_0"
   ]
  },
  {
   "cell_type": "code",
   "execution_count": 13,
   "metadata": {
    "collapsed": false
   },
   "outputs": [
    {
     "name": "stdout",
     "output_type": "stream",
     "text": [
      "配對全部需要花費： 17.12 秒\n",
      "[ 62698 101885  61225  67396  81327  87556  89451 121967 124333 111927\n",
      " 122692  58221  70848 105645  50528  59439  69199  73789 105999  86699]\n"
     ]
    }
   ],
   "source": [
    "print('配對全部需要花費：', round(dt2, 2), '秒')\n",
    "print(idx2_new[:20])"
   ]
  },
  {
   "cell_type": "markdown",
   "metadata": {},
   "source": [
    "# 方法三：Astroml 交叉配對"
   ]
  },
  {
   "cell_type": "code",
   "execution_count": 14,
   "metadata": {
    "collapsed": true
   },
   "outputs": [],
   "source": [
    "from astroML.crossmatch import crossmatch_angular"
   ]
  },
  {
   "cell_type": "code",
   "execution_count": 15,
   "metadata": {
    "collapsed": true
   },
   "outputs": [],
   "source": [
    "t3_0 = time.time() # 計時器_開始時間\n",
    "\n",
    "# get imaging data\n",
    "imX = np.empty((len(table_a), 2), dtype=np.float64)\n",
    "imX[:, 0] = ra_a\n",
    "imX[:, 1] = dec_a\n",
    "\n",
    "# get standard stars\n",
    "stX = np.empty((len(table_b), 2), dtype=np.float64)\n",
    "stX[:, 0] = ra_b\n",
    "stX[:, 1] = dec_b\n",
    "\n",
    "# crossmatch catalogs\n",
    "max_radius = 1. / 3600  # 1 arcsec\n",
    "dist3, idx3 = crossmatch_angular(imX, stX, max_radius)\n",
    "match = ~np.isinf(dist3)\n",
    "\n",
    "# 將沒有 match 到的設為 -9999\n",
    "idx3[~match] = -9999\n",
    "\n",
    "# 配對距離 (單位：角秒)\n",
    "dist_match = dist3[match]\n",
    "dist_match *= 3600\n",
    "\n",
    "t3_1 = time.time() # 計時器_結束時間\n",
    "dt3 = t3_1 - t3_0"
   ]
  },
  {
   "cell_type": "code",
   "execution_count": 16,
   "metadata": {
    "collapsed": false
   },
   "outputs": [
    {
     "name": "stdout",
     "output_type": "stream",
     "text": [
      "配對全部需要花費： 0.21 秒\n",
      "[ 62698  -9999  61225  -9999  81327  87556  89451  -9999  -9999 111927\n",
      " 122692  -9999  58221  70848 105645  -9999  59439  69199  73789 105999]\n"
     ]
    }
   ],
   "source": [
    "print('配對全部需要花費：', round(dt3, 2), '秒')\n",
    "print(idx3[:20])"
   ]
  },
  {
   "cell_type": "markdown",
   "metadata": {},
   "source": [
    "# 運算時間"
   ]
  },
  {
   "cell_type": "code",
   "execution_count": 17,
   "metadata": {
    "collapsed": false
   },
   "outputs": [
    {
     "name": "stdout",
     "output_type": "stream",
     "text": [
      "方法一：簡單交叉配對 (Naive cross-match)\n",
      "\n",
      " \t需耗時： 230.02 小時\n",
      "\n",
      "方法1.5：改用 numpy array\n",
      "\n",
      " \t需耗時： 238.85 秒\n",
      "\n",
      "方法二：Astropy 交叉配對\n",
      "\n",
      " \t需耗時： 17.12 秒\n",
      "\n",
      "方法三：Astroml 交叉配對\n",
      "\n",
      " \t需耗時： 0.21 秒\n",
      "\n"
     ]
    }
   ],
   "source": [
    "print('方法一：簡單交叉配對 (Naive cross-match)\\n\\n', '\\t需耗時：', round(dt1t / 3600, 2), '小時\\n')\n",
    "print('方法1.5：改用 numpy array\\n\\n', '\\t需耗時：', round(dt15t, 2), '秒\\n')\n",
    "print('方法二：Astropy 交叉配對\\n\\n', '\\t需耗時：', round(dt2, 2), '秒\\n')\n",
    "print('方法三：Astroml 交叉配對\\n\\n', '\\t需耗時：', round(dt3, 2), '秒\\n')"
   ]
  },
  {
   "cell_type": "markdown",
   "metadata": {},
   "source": [
    "# 方法說明"
   ]
  },
  {
   "cell_type": "markdown",
   "metadata": {},
   "source": [
    "#### 方法一：使用 Python 原生功能，表現極差\n",
    "#### 方法1.5：改用 Numpy array 重新撰寫，改善 99.9 %\n",
    "#### 方法二：使用 Astropy 套件，但 SkyCoord 這個步驟需要花費比較多時間，相較方法1.5，改善 92.8 %\n",
    "#### 方法三：使用 Astroml 套件，配對方式與方法二同樣為 KDtree，但不須執行 SkyCoord 轉換，相較方法二，改善 98.8 %，在1秒內即可完成"
   ]
  }
 ],
 "metadata": {
  "kernelspec": {
   "display_name": "Python 3",
   "language": "python",
   "name": "python3"
  },
  "language_info": {
   "codemirror_mode": {
    "name": "ipython",
    "version": 3
   },
   "file_extension": ".py",
   "mimetype": "text/x-python",
   "name": "python",
   "nbconvert_exporter": "python",
   "pygments_lexer": "ipython3",
   "version": "3.6.2"
  }
 },
 "nbformat": 4,
 "nbformat_minor": 2
}
