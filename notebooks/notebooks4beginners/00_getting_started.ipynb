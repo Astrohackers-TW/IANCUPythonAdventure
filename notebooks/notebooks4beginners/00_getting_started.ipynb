{
 "cells": [
  {
   "cell_type": "markdown",
   "metadata": {
    "slideshow": {
     "slide_type": "slide"
    }
   },
   "source": [
    "# 建立用於科學計算的Python開發環境 #"
   ]
  },
  {
   "cell_type": "markdown",
   "metadata": {
    "slideshow": {
     "slide_type": "slide"
    }
   },
   "source": [
    "## 快速建立用於科學計算的Python開發環境 ##\n",
    "\n",
    "因其開源的特性，Python社群會依據不同需求，把Python直譯器(命令列介面)、圖形化介面工具(編輯器、檔案瀏覽視窗、功能選單等)、第三方套件及套件管理工具整合成不同的Python發行版本。然而，Python官網所提供的發行版本並不包含用於科學計算的第三方套件，另外，Linux、Mac OS X也只內建Python直譯器，因此若想快速建立用於科學計算的Python開發環境，可考慮安裝以下其中一個Python發行版本(它們的官網都有下載連結及針對Linux、Mac OS X、Windows三個作業系統的個別安裝說明)：\n",
    "\n",
    "- <a href=\"https://store.continuum.io/cshop/anaconda/\" target=\"_blank\">Anaconda</a> (<a href=\"http://docs.continuum.io/anaconda/install.html\" target=\"_blank\">安裝說明</a>)\n",
    "- <a href=\"https://www.enthought.com/products/canopy/\" target=\"_blank\">Enthought Canopy</a> (<a href=\"http://docs.enthought.com/canopy/quick-start.html\" target=\"_blank\">安裝說明</a>)\n",
    "\n",
    "這兩個Python發行版本至少都包含NumPy、SciPy、Matplotlib這幾個<a href=\"http://www.scipy.org/\" target=\"_blank\">用於科學計算的第三方套件</a>，讓使用者可以完成檔案讀寫、矩陣運算、畫圖、線性代數、積分、內插、訊號與影像分析、解微分方程...等科學運算用途。這兩個發行版本也包含<a href=\"http://ipython.org/\" target=\"_blank\">IPython </a>互動式命令列介面，相較於預設的Python命令列介面，它有指令補齊、執行系統指令、瀏覽輸入過的程式碼...等進階功能。我會在[\"IPython簡介及使用範例\"](#ipython_examples)一節中簡介IPython，至於其他套件會在本系列文章中的\"Python 基本語法與科學計算套件的使用\"做介紹。以下為Anaconda內建的整合開發環境<a href=\"https://github.com/spyder-ide/spyder\" target=\"_blank\">Spyder</a>(上圖)及Enthought Canopy(下圖)的視窗截圖：\n",
    "<img src=\"images/spyder.png\" width=550>\n",
    "\n",
    "<img src=\"images/canopy.png\" width=550>"
   ]
  },
  {
   "cell_type": "markdown",
   "metadata": {
    "slideshow": {
     "slide_type": "slide"
    }
   },
   "source": [
    "## 自行擴充Python科學運算套件 (適合覺得套裝Python發行版本太佔電腦資源的人) ##\n",
    "\n",
    "上述Python發行版本固然安裝方便，但它們也包含了目前你可能不會用到的套件而佔掉電腦資源，若你目前只想要安裝基本常用的科學運算套件，等到以後有需要時再擴充其他套件，可選擇自行擴充Python科學運算套件。因為Linux及Mac OS X 已內建Python直譯器，所以基本常用的科學運算套件可透過作業系統的套件管理工具 (apt-get install 、yum install、port install) 擴充：\n",
    "- Ubuntu & Debian Linux\n",
    "```\n",
    "sudo apt-get install python-numpy python-scipy python-matplotlib ipython ipython-notebook python-pandas python-sympy python-nose\n",
    "```\n",
    "- Fedora Linux\n",
    "```\n",
    "sudo yum install numpy scipy python-matplotlib ipython python-pandas sympy python-nose\n",
    "```\n",
    "- Mac\n",
    "```\n",
    "sudo port install py27-numpy py27-scipy py27-matplotlib py27-ipython +notebook py27-pandas py27-sympy py27-nose\n",
    "```\n",
    "\n",
    "詳細請參考<a href=\"http://www.scipy.org/install.html\" target=\"_blank\">安裝說明</a>。\n",
    "\n",
    "當有需要擴充其他套件時，可以透過Python 套件管理程式<a href=\"https://pip.pypa.io/en/stable/\" target=\"_blank\">pip</a>安裝：\n",
    "- 先安裝pip (<a href=\"https://pip.pypa.io/en/stable/installing.html\" target=\"_blank\">安裝說明</a>)\n",
    "- 再透過pip指令擴充其他套件\n",
    "\n",
    "```\n",
    "pip install 欲安裝的套件名稱\n",
    "```\n"
   ]
  },
  {
   "cell_type": "markdown",
   "metadata": {
    "slideshow": {
     "slide_type": "slide"
    }
   },
   "source": [
    "## 如何不在整合開發環境下編輯及執行Python程式 ##\n",
    "如\"快速建立用於科學計算的Python開發環境\"一節的圖所示，Anaconda內建的Spyder及Enthought Canopy都是方便編輯及執行Python程式的整合開發環境，不過你也可以用文字編輯器(如<a href=\"https://atom.io/\" target=\"_blank\">Atom</a>、Vim)編寫Python程式，然後在終端機下執行程式(見下圖)。\n",
    "\n",
    "<img src=\"images/atom.png\" width=550>\n",
    "\n",
    "\n",
    "以下文章有說明如何將Atom和Vim編輯器設定成易於開發Python程式的環境：\n",
    "- <a href=\"http://www.marinamele.com/install-and-configure-atom-editor-for-python\" target=\"_blank\">Install and Configure the Atom Editor for Python</a>\n",
    "- <a href=\"http://chimerhapsody.blogspot.tw/2015/01/python-pep8-coding-stylevim.html\" target=\"_blank\">隨手養成 Python 好習慣 － PEP8 Coding Style、Vim 基本設定</a>\n",
    "\n",
    "註：<a href=\"https://www.python.org/dev/peps/pep-0008/\" target=\"_blank\">PEP8</a> - Python 社群慣用的程式碼風格指南： 因Python開源的特性，自己寫的程式可能會被別人擴充應用，或需要與別人協作開發程式，為幫助開發者寫出易讀且一致的程式碼，Python 官方於是提供關於程式碼排版、註解、命名等風格的指南。Atom及Vim都有外掛能偵測所寫的程式碼是符合PEP8。"
   ]
  },
  {
   "cell_type": "markdown",
   "metadata": {
    "slideshow": {
     "slide_type": "slide"
    }
   },
   "source": [
    "## 安裝專門用於天文研究的Python套件 ##\n",
    "\n",
    "類似IDL的Astronomy Users Library，Python的天文研究社群也建立了專門用於天文研究的Python套件：\n",
    "\n",
    "- <a href=\"http://www.astropy.org\" target=\"_blank\">Astropy</a>  (<a href=\"http://astropy.readthedocs.org/en/stable/install.html\" target=\"_blank\">安裝說明</a>)\n",
    "- <a href=\"http://www.astroml.org\" target=\"_blank\">AstroML</a>  (<a href=\"http://www.astroml.org/user_guide/installation.html#installation\" target=\"_blank\">安裝說明</a>)\n",
    "\n",
    "它們提供讀取FITS檔、天文座標系統轉換、線性迴歸、曲線擬合、周期分析...等模組。這兩個套件可透過Python 套件管理程式<a href=\"https://pip.pypa.io/en/stable/\" target=\"_blank\">pip</a>安裝：\n",
    "``` shell\n",
    "pip install astropy\n",
    "pip install astroML\n",
    "```\n",
    "詳細請參考套件官網的安裝說明。\n",
    "<a href=\"https://pypi.python.org/pypi?:action=browse&show=all&c=385&c=387\" target=\"_blank\">瀏覽更多可透過pip指令安裝的天文相關套件</a>。\n"
   ]
  },
  {
   "cell_type": "markdown",
   "metadata": {
    "slideshow": {
     "slide_type": "slide"
    }
   },
   "source": [
    "## <a id=\"ipython_examples\">IPython簡介及使用範例</a> ##\n",
    "\n",
    "<a href=\"http://ipython.org/\" target=\"_blank\">IPython</a>是強化版的互動式Python命令列介面，它比預設的Python命令列介面多了許多進階功能，例如：\n",
    "\n",
    "- 在套件、模組或函數名稱後加上問號可查看與之相關的資訊\n",
    "- 按↑鍵和↓鍵可以瀏覽輸入過的程式碼，便於微調先前的程式碼(修改參數等等)\n",
    "- 按tab鍵可以補齊未輸入完的指令、檔案及資料夾名稱\n",
    "- history指令可查看所有輸入過的指令\n",
    "- 可在IPython下使用linux 及shell指令\n",
    "- 能透過瀏覽器在<a href=\"http://ipython.org/notebook.html\" target=\"_blank\">IPython Notebook</a>上編寫程式及筆記 \n",
    "\n",
    "在Anaconda及Enthought Canopy的整合開發環境中，已有IPython的視窗可直接使用(見\"快速建立用於科學計算的Python開發環境\"一節的截圖)。你也可以在終端機中輸入ipython進入IPython命令列介面。以下為幾個IPyhon的使用範例：\n"
   ]
  },
  {
   "cell_type": "code",
   "execution_count": 1,
   "metadata": {
    "collapsed": false,
    "slideshow": {
     "slide_type": "fragment"
    }
   },
   "outputs": [],
   "source": [
    "#引入astropy套件並查看相關資訊\n",
    "import astropy \n",
    "astropy?"
   ]
  },
  {
   "cell_type": "code",
   "execution_count": 2,
   "metadata": {
    "collapsed": false,
    "slideshow": {
     "slide_type": "fragment"
    }
   },
   "outputs": [
    {
     "name": "stdout",
     "output_type": "stream",
     "text": [
      "/home/elantievs/astropython-notes/notebooks\r\n"
     ]
    }
   ],
   "source": [
    "!pwd #使用指令pwd列出目錄位置"
   ]
  },
  {
   "cell_type": "code",
   "execution_count": 3,
   "metadata": {
    "collapsed": false,
    "scrolled": true,
    "slideshow": {
     "slide_type": "fragment"
    }
   },
   "outputs": [
    {
     "data": {
      "text/plain": [
       "['input_files/data01.txt', 'input_files/data02.txt', 'input_files/data03.txt']"
      ]
     },
     "execution_count": 3,
     "metadata": {},
     "output_type": "execute_result"
    }
   ],
   "source": [
    "# 將所創建的檔案路徑存成一個list\n",
    "!mkdir input_files\n",
    "!touch input_files/data01.txt input_files/data02.txt input_files/data03.txt \n",
    "file_list = !ls input_files/*\n",
    "!rm  -r input_files\n",
    "file_list"
   ]
  },
  {
   "cell_type": "code",
   "execution_count": 4,
   "metadata": {
    "collapsed": false,
    "slideshow": {
     "slide_type": "fragment"
    }
   },
   "outputs": [
    {
     "data": {
      "text/plain": [
       "dict"
      ]
     },
     "execution_count": 4,
     "metadata": {},
     "output_type": "execute_result"
    }
   ],
   "source": [
    "Messier = {'M1': [\"Crab Nebula\", \"NGC1952\" , \"Taurus A\"], 'M31': [\"Andromeda Galaxy\", \"NGC 224\"]}\n",
    "type(Messier)"
   ]
  },
  {
   "cell_type": "code",
   "execution_count": 5,
   "metadata": {
    "collapsed": false,
    "slideshow": {
     "slide_type": "fragment"
    }
   },
   "outputs": [
    {
     "name": "stdout",
     "output_type": "stream",
     "text": [
      "#引入astropy套件並查看相關資訊\n",
      "import astropy \n",
      "astropy?\n",
      "!pwd #使用指令pwd列出目錄位置\n",
      "# 將所創建的檔案路徑存成一個list\n",
      "!mkdir input_files\n",
      "!touch input_files/data01.txt input_files/data02.txt input_files/data03.txt \n",
      "file_list = !ls input_files/*\n",
      "!rm  -r input_files\n",
      "file_list\n",
      "Messier = {'M1': [\"Crab Nebula\", \"NGC1952\" , \"Taurus A\"], 'M31': [\"Andromeda Galaxy\", \"NGC 224\"]}\n",
      "type(Messier)\n",
      "#列出所有曾輸入過的指令\n",
      "%history\n"
     ]
    }
   ],
   "source": [
    "#列出所有曾輸入過的指令\n",
    "%history"
   ]
  },
  {
   "cell_type": "code",
   "execution_count": 6,
   "metadata": {
    "collapsed": false,
    "slideshow": {
     "slide_type": "fragment"
    }
   },
   "outputs": [
    {
     "name": "stdout",
     "output_type": "stream",
     "text": [
      "Messier = {'M1': [\"Crab Nebula\", \"NGC1952\" , \"Taurus A\"], 'M31': [\"Andromeda Galaxy\", \"NGC 224\"]}\n",
      "type(Messier)\n",
      "['input_files/data01.txt', 'input_files/data02.txt', 'input_files/data03.txt']\n"
     ]
    }
   ],
   "source": [
    "print(In[4]) #IPython 以In及Out變數分別儲存歷史指令及指令的輸出結果\n",
    "print(Out[3])  \n"
   ]
  },
  {
   "cell_type": "markdown",
   "metadata": {
    "slideshow": {
     "slide_type": "fragment"
    }
   },
   "source": [
    "更多關於IPython的使用，請參考<a href=\"http://ipython.org/documentation.html\" target=\"_blank\">官方文件</a>及以下的IPython教學影片："
   ]
  },
  {
   "cell_type": "code",
   "execution_count": 7,
   "metadata": {
    "collapsed": false,
    "slideshow": {
     "slide_type": "fragment"
    }
   },
   "outputs": [
    {
     "data": {
      "text/html": [
       "\n",
       "        <iframe\n",
       "            width=\"400\"\n",
       "            height=\"300\"\n",
       "            src=\"https://www.youtube.com/embed/bP8ydKBCZiY\"\n",
       "            frameborder=\"0\"\n",
       "            allowfullscreen\n",
       "        ></iframe>\n",
       "        "
      ],
      "text/plain": [
       "<IPython.lib.display.YouTubeVideo at 0x7fb078565588>"
      ]
     },
     "execution_count": 7,
     "metadata": {},
     "output_type": "execute_result"
    }
   ],
   "source": [
    "from IPython.display import YouTubeVideo\n",
    "YouTubeVideo(\"bP8ydKBCZiY\")"
   ]
  },
  {
   "cell_type": "markdown",
   "metadata": {
    "slideshow": {
     "slide_type": "slide"
    }
   },
   "source": [
    "## <a id=\"learning_materials\">學習資源</a> ##\n",
    "Python的<a href=\"https://docs.python.org/3.4/tutorial/\" target=\"_blank\">官方教學文件</a>以及上述第三方套件的官方教學文件都提供詳細的說明及範例，而<a href=\"http://www.astropython.org\" target=\"_blank\">AstroPython網站</a>也有給天文研究人員的Python入門指南。此外，<a href=\"http://wiki.python.org.tw/Python/%E7%AC%AC%E4%B8%80%E6%AC%A1%E7%94%A8%E5%B0%B1%E4%B8%8A%E6%89%8B\" target=\"_blank\">Python的台灣使用者社群網站</a>也羅列了許多學習資源。以下列出我所整理的學習資源：\n",
    "\n",
    "1. 基礎語法\n",
    "    - <a href=\"https://docs.python.org/3.4/tutorial/\" target=\"_blank\">The Python Tutorial</a> (官方教學文件)\n",
    "    - <a href=\"http://learnpythonthehardway.org/book/\" target=\"_blank\">Learn Python the Hard Way</a> (電子書)\n",
    "    - <a href=\"http://www.diveintopython3.net/\" target=\"_blank\">Dive Into Python 3</a> (電子書)\n",
    "    - <a href=\"http://www.greenteapress.com/thinkpython/\" target=\"_blank\">Think Python</a> (電子書)\n",
    "    - <a href=\"https://www.coursera.org/course/pythonlearn\" target=\"_blank\">Programming for Everybody (Python)</a> (Coursera的線上課程-University of Michigan)\n",
    "    - <a href=\"https://www.edx.org/course/introduction-computer-science-mitx-6-00-1x-0\" target=\"_blank\">Introduction to Computer Science and Programming Using Python</a> (edX的線上課程-MIT)\n",
    "    - <a href=\"https://www.edx.org/course/introduction-computational-thinking-data-mitx-6-00-2x-0\" target=\"_blank\">Introduction to Computational Thinking and Data Science</a> (edX的線上課程-MIT)\n",
    "    - <a href=\"https://www.coursera.org/specialization/fundamentalscomputing2/37?utm_medium=catalog\" target=\"_blank\">Fundamentals of Computing</a> (Coursera的線上系列課程-Rice University)\n",
    "    - <a href=\"https://www.udacity.com/programming-languages/python\" target=\"_blank\">Learn Python</a> (Udacity的線上課程)\n",
    "    - <a href=\"http://www.codecademy.com/en/tracks/python\" target=\"_blank\">Codecademy Python Track</a> (Codecademy的線上課程)\n",
    "\n",
    "2. 科學計算/天文研究\n",
    "    - <a href=\"http://www.scipy.org/getting-started.html\" target=\"_blank\">Getting Started — SciPy.org</a> (SciPy官方教學文件)\n",
    "    - <a href=\"http://python4astronomers.github.io/\" target=\"_blank\">Practical Python for Astronomers</a> (給天文研究人員的Python入門指南)\n",
    "    - <a href=\"http://www.astro.washington.edu/users/vanderplas/Astr599_2014/\" target=\"_blank\">Scientific Computing with Python</a> (天文學家Jake VanderPlas所教授的課程筆記) \n",
    "    - <a href=\"https://github.com/kosack/CEAPythonWorkshopForAstronomers/blob/master/README.md\" target=\"_blank\">CEA Saclay Python Workshop For Astronomers</a>\n",
    "    - <a href=\"http://www.amazon.com/Statistics-Mining-Machine-Learning-Astronomy/dp/0691151687\" target=\"_blank\">Statistics, Data Mining, and Machine Learning in Astronomy: A Practical Python Guide for the Analysis of Survey Data</a> (可當作教科書或平時查閱的參考書)\n",
    "    - <a href=\"https://www.coursera.org/course/scicomp\" target=\"_blank\">High Performance Scientific Computing</a> (Coursera的線上課程-University of Washington)\n",
    "    - <a href=\"http://myshare.dscloud.me/scipydoc/\" target=\"_blank\">用Python做科學計算</a> (作者 張若愚)"
   ]
  }
 ],
 "metadata": {
  "anaconda-cloud": {},
  "kernelspec": {
   "display_name": "Python [Root]",
   "language": "python",
   "name": "Python [Root]"
  },
  "language_info": {
   "codemirror_mode": {
    "name": "ipython",
    "version": 2
   },
   "file_extension": ".py",
   "mimetype": "text/x-python",
   "name": "python",
   "nbconvert_exporter": "python",
   "pygments_lexer": "ipython2",
   "version": "2.7.12"
  }
 },
 "nbformat": 4,
 "nbformat_minor": 0
}
