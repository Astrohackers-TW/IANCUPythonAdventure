{
 "cells": [
  {
   "cell_type": "markdown",
   "metadata": {},
   "source": [
    "# Python 基本語法與科學計算套件的使用： Python 基礎(一)"
   ]
  },
  {
   "cell_type": "markdown",
   "metadata": {},
   "source": [
    "## 四堂課程大綱\n",
    "- 第一堂-Python 基礎(一)：Python 簡介及環境建立、Python程式的編寫及執行、資料型態、基本輸入輸出、流程控制\n",
    "- 第二堂-Python 基礎(二)：檔案讀寫、例外處理、函數、模組、物件導向\n",
    "- 第三堂-Python科學計算套件(一)：Numpy、Matplotlib \n",
    "- 第四堂-Python科學計算套件(二)：Scipy、Astropy"
   ]
  },
  {
   "cell_type": "markdown",
   "metadata": {},
   "source": [
    "## Python 簡介\n",
    "- <a href=\"https://www.python.org/\" target=\"_blank\">Python</a> 是一種<a href=\"https://en.wikipedia.org/wiki/Interpreted_language\" target=\"_blank\">直譯式的程式語言</a>\n",
    "- Python的擴充性：<a href=\"https://docs.python.org/3/library/\" target=\"_blank\">標準函式庫</a>+<a href=\"https://pypi.python.org/pypi\" target=\"_blank\">眾多的第三方套件</a>\n",
    "- <a href=\"http://www.astro.ncu.edu.tw/~yhsu/yhsu/%E5%BB%BA%E7%AB%8B%E7%94%A8%E6%96%BC%E7%A7%91%E5%AD%B8%E8%A8%88%E7%AE%97%E7%9A%84python%E9%96%8B%E7%99%BC%E7%92%B0%E5%A2%83/\" target=\"_blank\">建立用於科學計算的Python開發環境</a>\n",
    "- 示範如何編輯及執行Python程式: Python/<a href=\"http://ipython.org/\" target=\"_blank\">IPython</a>互動式命令列介面、文字編輯器(<a href=\"https://atom.io/\">Atom</a>、<a href=\"http://linux.vbird.org/linux_basic/0310vi.php\" target=\"_blank\">Vim</a>、<a href=\"http://www.sublimetext.com/3\" target=\"_blank\">Sublime Text 3</a>、<a href=\"https://notepad-plus-plus.org/\" target=\"_blank\">Notepad++</a>...)、<a href=\"https://wiki.python.org/moin/IntegratedDevelopmentEnvironments\" target=\"_blank\">整合開發環境</a>(Anaconda內建的<a href=\"http://pythonhosted.org/spyder/\" target=\"_blank\">Spyder</a>、<a href=\"https://www.enthought.com/products/canopy/\" target=\"_blank\">Enthought Canopy</a>...)、<a href=\"http://ipython.org/notebook.html\" target=\"_blank\">IPython Notebook </a>(可將程式碼、圖、筆記統整在一份文件中，並可儲存成其他格式分享給別人)"
   ]
  },
  {
   "cell_type": "markdown",
   "metadata": {},
   "source": [
    "## 資料型態(整數、浮點數、複數、字串、布林值)及基本輸出輸入\n",
    "- Python的變數命名是會區分大小寫\n",
    "- 動態定型"
   ]
  },
  {
   "cell_type": "code",
   "execution_count": 1,
   "metadata": {},
   "outputs": [
    {
     "data": {
      "text/plain": [
       "int"
      ]
     },
     "execution_count": 1,
     "metadata": {},
     "output_type": "execute_result"
    }
   ],
   "source": [
    "# ←此為Python的註解符號，在這之後的文字不會被當作程式碼執行\n",
    "# Python不用宣告變數型態，在指定變數的值時即會動態決定其型態\n",
    "n_solar_mass = 10                                           # 整數\n",
    "MASS_SUN = 1.99 * 10 ** 30                        # 浮點數\n",
    "z = complex(3., -1.)                                          # 複數                  \n",
    "unit  = \"kg\"                                                         #字串\n",
    "yes = True                                                         #布林值\n",
    "no = False                                                         #布林值\n",
    "type(n_solar_mass)"
   ]
  },
  {
   "cell_type": "markdown",
   "metadata": {},
   "source": [
    "- 基本輸出輸入"
   ]
  },
  {
   "cell_type": "code",
   "execution_count": 2,
   "metadata": {},
   "outputs": [
    {
     "name": "stdout",
     "output_type": "stream",
     "text": [
      "伴星的質量為： 1.99e+31 kg\n",
      "請輸入雙星軌道周期 (單位為秒) : 72000\n"
     ]
    }
   ],
   "source": [
    "print(\"伴星的質量為：\", n_solar_mass * MASS_SUN, unit)\n",
    "perid = input(\"請輸入雙星軌道周期 (單位為秒) : \")"
   ]
  },
  {
   "cell_type": "markdown",
   "metadata": {},
   "source": [
    "- 強型別\n",
    "- 轉型"
   ]
  },
  {
   "cell_type": "code",
   "execution_count": 3,
   "metadata": {},
   "outputs": [
    {
     "ename": "TypeError",
     "evalue": "unsupported operand type(s) for +: 'float' and 'str'",
     "output_type": "error",
     "traceback": [
      "\u001b[0;31m---------------------------------------------------------------------------\u001b[0m",
      "\u001b[0;31mTypeError\u001b[0m                                 Traceback (most recent call last)",
      "\u001b[0;32m<ipython-input-3-9045cf533177>\u001b[0m in \u001b[0;36m<module>\u001b[0;34m()\u001b[0m\n\u001b[0;32m----> 1\u001b[0;31m \u001b[0mMASS_SUN\u001b[0m \u001b[0;34m+\u001b[0m \u001b[0munit\u001b[0m\u001b[0;34m\u001b[0m\u001b[0m\n\u001b[0m",
      "\u001b[0;31mTypeError\u001b[0m: unsupported operand type(s) for +: 'float' and 'str'"
     ]
    }
   ],
   "source": [
    "MASS_SUN + unit"
   ]
  },
  {
   "cell_type": "code",
   "execution_count": 4,
   "metadata": {},
   "outputs": [
    {
     "data": {
      "text/plain": [
       "'1.99e+30kg'"
      ]
     },
     "execution_count": 4,
     "metadata": {},
     "output_type": "execute_result"
    }
   ],
   "source": [
    "str(MASS_SUN) + unit"
   ]
  },
  {
   "cell_type": "markdown",
   "metadata": {},
   "source": [
    "- 對變數的操作"
   ]
  },
  {
   "cell_type": "code",
   "execution_count": 5,
   "metadata": {},
   "outputs": [
    {
     "data": {
      "text/plain": [
       "['Hello,', 'Python!']"
      ]
     },
     "execution_count": 5,
     "metadata": {},
     "output_type": "execute_result"
    }
   ],
   "source": [
    "s = \"Hello,\" + \" \" + \"Python!\"\n",
    "#s.upper()\n",
    "s.split()"
   ]
  },
  {
   "cell_type": "markdown",
   "metadata": {},
   "source": [
    "## 資料型態(List、Tuple、Dictionary)"
   ]
  },
  {
   "cell_type": "markdown",
   "metadata": {},
   "source": [
    "### 簡介"
   ]
  },
  {
   "cell_type": "markdown",
   "metadata": {},
   "source": [
    "### 1. Tuple\n",
    "- 內容不可變"
   ]
  },
  {
   "cell_type": "code",
   "execution_count": 6,
   "metadata": {},
   "outputs": [
    {
     "data": {
      "text/plain": [
       "(1, 2)"
      ]
     },
     "execution_count": 6,
     "metadata": {},
     "output_type": "execute_result"
    }
   ],
   "source": [
    "x = (1,2)\n",
    "x"
   ]
  },
  {
   "cell_type": "code",
   "execution_count": 7,
   "metadata": {},
   "outputs": [
    {
     "ename": "TypeError",
     "evalue": "'tuple' object does not support item assignment",
     "output_type": "error",
     "traceback": [
      "\u001b[0;31m---------------------------------------------------------------------------\u001b[0m",
      "\u001b[0;31mTypeError\u001b[0m                                 Traceback (most recent call last)",
      "\u001b[0;32m<ipython-input-7-0bfb67b35805>\u001b[0m in \u001b[0;36m<module>\u001b[0;34m()\u001b[0m\n\u001b[0;32m----> 1\u001b[0;31m \u001b[0mx\u001b[0m\u001b[0;34m[\u001b[0m\u001b[0;36m0\u001b[0m\u001b[0;34m]\u001b[0m \u001b[0;34m=\u001b[0m \u001b[0;36m12\u001b[0m  \u001b[0;31m#無法更改內容\u001b[0m\u001b[0;34m\u001b[0m\u001b[0m\n\u001b[0m",
      "\u001b[0;31mTypeError\u001b[0m: 'tuple' object does not support item assignment"
     ]
    }
   ],
   "source": [
    "x[0] = 12  #無法更改內容"
   ]
  },
  {
   "cell_type": "markdown",
   "metadata": {},
   "source": [
    "-  tuple 是有順序但不可以變動"
   ]
  },
  {
   "cell_type": "code",
   "execution_count": 8,
   "metadata": {},
   "outputs": [
    {
     "name": "stdout",
     "output_type": "stream",
     "text": [
      "(3.14159, 1.99e+30, 6.67e-11)\n"
     ]
    },
    {
     "ename": "AttributeError",
     "evalue": "'tuple' object has no attribute 'append'",
     "output_type": "error",
     "traceback": [
      "\u001b[0;31m---------------------------------------------------------------------------\u001b[0m",
      "\u001b[0;31mAttributeError\u001b[0m                            Traceback (most recent call last)",
      "\u001b[0;32m<ipython-input-8-dffbb472e278>\u001b[0m in \u001b[0;36m<module>\u001b[0;34m()\u001b[0m\n\u001b[1;32m      3\u001b[0m \u001b[0mconstants\u001b[0m \u001b[0;34m=\u001b[0m \u001b[0;34m(\u001b[0m\u001b[0;36m3.14159\u001b[0m\u001b[0;34m,\u001b[0m \u001b[0;36m1.99\u001b[0m \u001b[0;34m*\u001b[0m \u001b[0;36m10\u001b[0m \u001b[0;34m**\u001b[0m \u001b[0;36m30\u001b[0m \u001b[0;34m,\u001b[0m  \u001b[0;36m6.67\u001b[0m \u001b[0;34m*\u001b[0m \u001b[0;36m10\u001b[0m \u001b[0;34m**\u001b[0m \u001b[0;34m-\u001b[0m\u001b[0;36m11\u001b[0m\u001b[0;34m)\u001b[0m   \u001b[0;31m# tuple用小括號\u001b[0m\u001b[0;34m\u001b[0m\u001b[0m\n\u001b[1;32m      4\u001b[0m \u001b[0mprint\u001b[0m\u001b[0;34m(\u001b[0m\u001b[0mconstants\u001b[0m\u001b[0;34m)\u001b[0m\u001b[0;34m\u001b[0m\u001b[0m\n\u001b[0;32m----> 5\u001b[0;31m \u001b[0mconstants\u001b[0m\u001b[0;34m.\u001b[0m\u001b[0mappend\u001b[0m\u001b[0;34m(\u001b[0m\u001b[0;34m-\u001b[0m\u001b[0;36m342\u001b[0m\u001b[0;34m)\u001b[0m\u001b[0;34m\u001b[0m\u001b[0m\n\u001b[0m",
      "\u001b[0;31mAttributeError\u001b[0m: 'tuple' object has no attribute 'append'"
     ]
    }
   ],
   "source": [
    "# 延續上面範例\n",
    "\n",
    "constants = (3.14159, 1.99 * 10 ** 30 ,  6.67 * 10 ** -11)   # tuple用小括號\n",
    "print(constants)\n",
    "constants.append(-342)"
   ]
  },
  {
   "cell_type": "code",
   "execution_count": 9,
   "metadata": {
    "collapsed": true
   },
   "outputs": [],
   "source": [
    "x = (10,11)\n",
    "y = list(x) #把tuple製作成串列"
   ]
  },
  {
   "cell_type": "code",
   "execution_count": 10,
   "metadata": {},
   "outputs": [
    {
     "data": {
      "text/plain": [
       "[20, 11]"
      ]
     },
     "execution_count": 10,
     "metadata": {},
     "output_type": "execute_result"
    }
   ],
   "source": [
    "y[0] = 20\n",
    "y"
   ]
  },
  {
   "cell_type": "markdown",
   "metadata": {},
   "source": [
    "-  list 是有順序且可以變動"
   ]
  },
  {
   "cell_type": "code",
   "execution_count": 11,
   "metadata": {},
   "outputs": [
    {
     "data": {
      "text/plain": [
       "['A', 'B', 'C', 'D', 'E']"
      ]
     },
     "execution_count": 11,
     "metadata": {},
     "output_type": "execute_result"
    }
   ],
   "source": [
    "slist = []\n",
    "slist = ['A','B','C','D','E']\n",
    "slist"
   ]
  },
  {
   "cell_type": "code",
   "execution_count": 12,
   "metadata": {},
   "outputs": [
    {
     "data": {
      "text/plain": [
       "['B', 'B', 'C', 'D', 'E']"
      ]
     },
     "execution_count": 12,
     "metadata": {},
     "output_type": "execute_result"
    }
   ],
   "source": [
    "slist[0] = 'B'\n",
    "slist"
   ]
  },
  {
   "cell_type": "code",
   "execution_count": 13,
   "metadata": {},
   "outputs": [
    {
     "name": "stdout",
     "output_type": "stream",
     "text": [
      "140\n",
      "[140, 220, 592, 314, 244, 'km/s', -342]\n",
      "7\n"
     ]
    }
   ],
   "source": [
    "# 延續上面範例\n",
    "\n",
    "radial_velocity = [140, 220, 314, 244, 'km/s']    # list用中括號\n",
    "print(radial_velocity[0])                                        # 元素的index從零開始\n",
    "radial_velocity.append(-342)\n",
    "radial_velocity.insert(2, 592)\n",
    "print(radial_velocity)\n",
    "print(len(radial_velocity))"
   ]
  },
  {
   "cell_type": "markdown",
   "metadata": {},
   "source": [
    "- 雙重list"
   ]
  },
  {
   "cell_type": "code",
   "execution_count": 14,
   "metadata": {},
   "outputs": [
    {
     "data": {
      "text/plain": [
       "[1, 2, 3, 4, 5]"
      ]
     },
     "execution_count": 14,
     "metadata": {},
     "output_type": "execute_result"
    }
   ],
   "source": [
    "dlist = [['A','B','C','D','E'],[1,2,3,4,5]]\n",
    "dlist[1]"
   ]
  },
  {
   "cell_type": "code",
   "execution_count": 15,
   "metadata": {},
   "outputs": [
    {
     "data": {
      "text/plain": [
       "1"
      ]
     },
     "execution_count": 15,
     "metadata": {},
     "output_type": "execute_result"
    }
   ],
   "source": [
    "dlist[1][0]"
   ]
  },
  {
   "cell_type": "markdown",
   "metadata": {},
   "source": [
    "- 須注意指定問題"
   ]
  },
  {
   "cell_type": "code",
   "execution_count": 16,
   "metadata": {},
   "outputs": [
    {
     "data": {
      "text/plain": [
       "[1, 2, 3]"
      ]
     },
     "execution_count": 16,
     "metadata": {},
     "output_type": "execute_result"
    }
   ],
   "source": [
    "a = [1,2,3]\n",
    "a"
   ]
  },
  {
   "cell_type": "code",
   "execution_count": 17,
   "metadata": {},
   "outputs": [
    {
     "data": {
      "text/plain": [
       "[1, 2, 3]"
      ]
     },
     "execution_count": 17,
     "metadata": {},
     "output_type": "execute_result"
    }
   ],
   "source": [
    "b = a\n",
    "b"
   ]
  },
  {
   "cell_type": "code",
   "execution_count": 18,
   "metadata": {},
   "outputs": [
    {
     "data": {
      "text/plain": [
       "[10, 2, 3]"
      ]
     },
     "execution_count": 18,
     "metadata": {},
     "output_type": "execute_result"
    }
   ],
   "source": [
    "b[0] = 10\n",
    "b"
   ]
  },
  {
   "cell_type": "code",
   "execution_count": 19,
   "metadata": {},
   "outputs": [
    {
     "data": {
      "text/plain": [
       "[10, 2, 3]"
      ]
     },
     "execution_count": 19,
     "metadata": {},
     "output_type": "execute_result"
    }
   ],
   "source": [
    "a # list a 中的數值也一起改變"
   ]
  },
  {
   "cell_type": "code",
   "execution_count": 20,
   "metadata": {},
   "outputs": [
    {
     "data": {
      "text/plain": [
       "[10, 2, 3]"
      ]
     },
     "execution_count": 20,
     "metadata": {},
     "output_type": "execute_result"
    }
   ],
   "source": [
    "# 如何解決？\n",
    "c = a[:]\n",
    "c"
   ]
  },
  {
   "cell_type": "code",
   "execution_count": 21,
   "metadata": {},
   "outputs": [
    {
     "data": {
      "text/plain": [
       "[40, 2, 3]"
      ]
     },
     "execution_count": 21,
     "metadata": {},
     "output_type": "execute_result"
    }
   ],
   "source": [
    "c[0] = 40\n",
    "c"
   ]
  },
  {
   "cell_type": "code",
   "execution_count": 22,
   "metadata": {},
   "outputs": [
    {
     "data": {
      "text/plain": [
       "[10, 2, 3]"
      ]
     },
     "execution_count": 22,
     "metadata": {},
     "output_type": "execute_result"
    }
   ],
   "source": [
    "a"
   ]
  },
  {
   "cell_type": "markdown",
   "metadata": {},
   "source": [
    "- 判斷項目是否存在於list中 => in"
   ]
  },
  {
   "cell_type": "code",
   "execution_count": 23,
   "metadata": {},
   "outputs": [
    {
     "data": {
      "text/plain": [
       "True"
      ]
     },
     "execution_count": 23,
     "metadata": {},
     "output_type": "execute_result"
    }
   ],
   "source": [
    "clist = ['A','B','C','D','E']\n",
    "'B' in clist"
   ]
  },
  {
   "cell_type": "code",
   "execution_count": 24,
   "metadata": {},
   "outputs": [
    {
     "data": {
      "text/plain": [
       "False"
      ]
     },
     "execution_count": 24,
     "metadata": {},
     "output_type": "execute_result"
    }
   ],
   "source": [
    "'F' in clist"
   ]
  },
  {
   "cell_type": "markdown",
   "metadata": {},
   "source": [
    "- 排序"
   ]
  },
  {
   "cell_type": "code",
   "execution_count": 25,
   "metadata": {},
   "outputs": [
    {
     "data": {
      "text/plain": [
       "['A', 'C', 'D', 'D', 'E', 'F']"
      ]
     },
     "execution_count": 25,
     "metadata": {},
     "output_type": "execute_result"
    }
   ],
   "source": [
    "wlist = ['D','A','F','C','E','D']\n",
    "sorted(wlist)"
   ]
  },
  {
   "cell_type": "code",
   "execution_count": 26,
   "metadata": {},
   "outputs": [
    {
     "data": {
      "text/plain": [
       "[1, 2, 3, 3, 4, 23, 98]"
      ]
     },
     "execution_count": 26,
     "metadata": {},
     "output_type": "execute_result"
    }
   ],
   "source": [
    "nlist = [4,23,1,3,2,98,3]\n",
    "sorted(nlist)"
   ]
  },
  {
   "cell_type": "markdown",
   "metadata": {},
   "source": [
    "-  dictionary 是無順序且可以變動"
   ]
  },
  {
   "cell_type": "code",
   "execution_count": 27,
   "metadata": {},
   "outputs": [
    {
     "data": {
      "text/plain": [
       "{'Ben': 63, 'Bob': 83, 'Cathy': 76, 'Jack': 84}"
      ]
     },
     "execution_count": 27,
     "metadata": {},
     "output_type": "execute_result"
    }
   ],
   "source": [
    "dic = {'Jack':84,'Ben':63,'Cathy':76, 'Bob': 83}\n",
    "dic"
   ]
  },
  {
   "cell_type": "code",
   "execution_count": 28,
   "metadata": {},
   "outputs": [
    {
     "data": {
      "text/plain": [
       "84"
      ]
     },
     "execution_count": 28,
     "metadata": {},
     "output_type": "execute_result"
    }
   ],
   "source": [
    "dic['Jack']"
   ]
  },
  {
   "cell_type": "code",
   "execution_count": 29,
   "metadata": {},
   "outputs": [
    {
     "data": {
      "text/plain": [
       "{'Ben': [63, 12, 74],\n",
       " 'Bob': [83, 81, 90],\n",
       " 'Cathy': [12, 43, 76],\n",
       " 'Jack': [84, 23, 34]}"
      ]
     },
     "execution_count": 29,
     "metadata": {},
     "output_type": "execute_result"
    }
   ],
   "source": [
    "dic = {'Jack':[84,23,34],'Ben':[63,12,74],'Cathy':[12,43,76],'Bob': [83,81,90]} # key 不能放list value可以\n",
    "dic "
   ]
  },
  {
   "cell_type": "code",
   "execution_count": 30,
   "metadata": {},
   "outputs": [
    {
     "data": {
      "text/plain": [
       "[84, 23, 34]"
      ]
     },
     "execution_count": 30,
     "metadata": {},
     "output_type": "execute_result"
    }
   ],
   "source": [
    "dic['Jack']"
   ]
  },
  {
   "cell_type": "code",
   "execution_count": 31,
   "metadata": {},
   "outputs": [
    {
     "data": {
      "text/plain": [
       "{'Ben': [63, 12, 74],\n",
       " 'Bob': [83, 81, 90],\n",
       " 'Cathy': [12, 43, 76],\n",
       " 'Jack': [1, 2, 3]}"
      ]
     },
     "execution_count": 31,
     "metadata": {},
     "output_type": "execute_result"
    }
   ],
   "source": [
    "dic['Jack'] = [1,2,3]\n",
    "dic"
   ]
  },
  {
   "cell_type": "markdown",
   "metadata": {},
   "source": [
    "- 新增合併字典"
   ]
  },
  {
   "cell_type": "code",
   "execution_count": 32,
   "metadata": {},
   "outputs": [
    {
     "data": {
      "text/plain": [
       "{'Ben': [63, 12, 74],\n",
       " 'Bob': [83, 81, 90],\n",
       " 'Cathy': [12, 43, 76],\n",
       " 'Eric': [93, 31, 32],\n",
       " 'Jack': [1, 2, 3],\n",
       " 'William': [23, 43, 84]}"
      ]
     },
     "execution_count": 32,
     "metadata": {},
     "output_type": "execute_result"
    }
   ],
   "source": [
    "dic.update({'William':[23,43,84],'Eric':[93,31,32]})\n",
    "dic"
   ]
  },
  {
   "cell_type": "markdown",
   "metadata": {},
   "source": [
    "- 判斷key是否存在"
   ]
  },
  {
   "cell_type": "code",
   "execution_count": 33,
   "metadata": {},
   "outputs": [
    {
     "data": {
      "text/plain": [
       "True"
      ]
     },
     "execution_count": 33,
     "metadata": {},
     "output_type": "execute_result"
    }
   ],
   "source": [
    "'Ben' in dic"
   ]
  },
  {
   "cell_type": "code",
   "execution_count": 34,
   "metadata": {},
   "outputs": [
    {
     "data": {
      "text/plain": [
       "True"
      ]
     },
     "execution_count": 34,
     "metadata": {},
     "output_type": "execute_result"
    }
   ],
   "source": [
    "'William' in dic "
   ]
  },
  {
   "cell_type": "markdown",
   "metadata": {},
   "source": [
    "- 取得key, value"
   ]
  },
  {
   "cell_type": "code",
   "execution_count": 35,
   "metadata": {},
   "outputs": [
    {
     "data": {
      "text/plain": [
       "dict_keys(['Bob', 'William', 'Jack', 'Eric', 'Ben', 'Cathy'])"
      ]
     },
     "execution_count": 35,
     "metadata": {},
     "output_type": "execute_result"
    }
   ],
   "source": [
    "dic.keys() #取得key not list"
   ]
  },
  {
   "cell_type": "code",
   "execution_count": 36,
   "metadata": {},
   "outputs": [
    {
     "data": {
      "text/plain": [
       "dict_values([[83, 81, 90], [23, 43, 84], [1, 2, 3], [93, 31, 32], [63, 12, 74], [12, 43, 76]])"
      ]
     },
     "execution_count": 36,
     "metadata": {},
     "output_type": "execute_result"
    }
   ],
   "source": [
    "dic.values() #取得value not list"
   ]
  },
  {
   "cell_type": "code",
   "execution_count": 37,
   "metadata": {},
   "outputs": [
    {
     "data": {
      "text/plain": [
       "dict_items([('Bob', [83, 81, 90]), ('William', [23, 43, 84]), ('Jack', [1, 2, 3]), ('Eric', [93, 31, 32]), ('Ben', [63, 12, 74]), ('Cathy', [12, 43, 76])])"
      ]
     },
     "execution_count": 37,
     "metadata": {},
     "output_type": "execute_result"
    }
   ],
   "source": [
    "dic.items() #取得所有的key, value not list"
   ]
  },
  {
   "cell_type": "code",
   "execution_count": 38,
   "metadata": {},
   "outputs": [
    {
     "name": "stdout",
     "output_type": "stream",
     "text": [
      "['GX 339-4', 'GRS 1915+105']\n",
      "(3.14159, 1.99e+30, 6.67e-11)\n",
      "{'mass': [], 'name': ['GX 339-4', 'GRS 1915+105'], 'constants': (3.14159, 1.99e+30, 6.67e-11)}\n"
     ]
    }
   ],
   "source": [
    "# 延續上面範例\n",
    "\n",
    "binaries = {'name':[\"GX 339-4\",\"GRS 1915+105\"], 'constants': constants}                   # dictionary用大括號\n",
    "print(binaries['name'])\n",
    "print(binaries['constants'])\n",
    "binaries['mass'] = [ ]\n",
    "print(binaries)"
   ]
  },
  {
   "cell_type": "markdown",
   "metadata": {},
   "source": [
    "- Slicing"
   ]
  },
  {
   "cell_type": "code",
   "execution_count": 39,
   "metadata": {},
   "outputs": [
    {
     "name": "stdout",
     "output_type": "stream",
     "text": [
      "[592, 314, 244]\n",
      "[140, 314]\n"
     ]
    }
   ],
   "source": [
    "print(radial_velocity[2:5])                        # [i:j] 從i開始到j-1\n",
    "print(radial_velocity[:-2:3])                     # [i:j:k] 從i開始每隔k個到j-1"
   ]
  },
  {
   "cell_type": "markdown",
   "metadata": {},
   "source": [
    "## 流程控制：條件判斷式及迴圈\n",
    "- 依據某些條件(條件判斷式)或多次執行某個程式區塊(迴圈)，來控制程式的執行流程\n",
    "- Python使用冒號及縮排來辨別程式區塊\n",
    "- if...else if...else 條件判斷式"
   ]
  },
  {
   "cell_type": "code",
   "execution_count": 40,
   "metadata": {},
   "outputs": [
    {
     "name": "stdout",
     "output_type": "stream",
     "text": [
      "They are microquasars!\n"
     ]
    },
    {
     "data": {
      "text/plain": [
       "['GX 339-4', 'GRS 1915+105']"
      ]
     },
     "execution_count": 40,
     "metadata": {},
     "output_type": "execute_result"
    }
   ],
   "source": [
    "if \"GRS 1915+105\" or \"GX 339-4\" in binaries['name']:\n",
    "    print('They are microquasars!')\n",
    "elif \"XTE J1550-564\" not in binaries['name']:\n",
    "    print('XTE J1550-564 is not in the list!')\n",
    "else:\n",
    "    binaries['name'].append( input(\"請輸入下一個microquasars的名稱 : \") )\n",
    "binaries['name']"
   ]
  },
  {
   "cell_type": "markdown",
   "metadata": {},
   "source": [
    "- for 迴圈"
   ]
  },
  {
   "cell_type": "code",
   "execution_count": 41,
   "metadata": {},
   "outputs": [
    {
     "name": "stdout",
     "output_type": "stream",
     "text": [
      "0\n",
      "1\n",
      "2\n",
      "3\n",
      "4\n",
      "5\n",
      "6\n",
      "7\n",
      "8\n",
      "9\n"
     ]
    }
   ],
   "source": [
    "# Basic example 1.\n",
    "for i in range(10):\n",
    "    print(i)"
   ]
  },
  {
   "cell_type": "code",
   "execution_count": 42,
   "metadata": {},
   "outputs": [
    {
     "name": "stdout",
     "output_type": "stream",
     "text": [
      "1\n",
      "3\n",
      "5\n",
      "7\n",
      "9\n",
      "2\n",
      "4\n",
      "6\n",
      "8\n",
      "10\n"
     ]
    }
   ],
   "source": [
    "# Basic example 2.\n",
    "arr = [1,3,5,7,9,2,4,6,8,10]\n",
    "for i in arr:\n",
    "    print(i)"
   ]
  },
  {
   "cell_type": "code",
   "execution_count": 43,
   "metadata": {},
   "outputs": [
    {
     "name": "stdout",
     "output_type": "stream",
     "text": [
      "GRS 1915+105 is a microquasar!\n",
      "GX 339-4 is a microquasar!\n",
      "2 4\n",
      "22 484\n",
      "42 1764\n",
      "62 3844\n",
      "82 6724\n"
     ]
    }
   ],
   "source": [
    "microquasars = [\"GRS 1915+105\" , \"GX 339-4\"]\n",
    "for m in microquasars:\n",
    "    if m in binaries['name']:\n",
    "        print(m, \"is a microquasar!\")\n",
    "        \n",
    "for i in range(2, 100, 20):\n",
    "    print(i, i ** 2)"
   ]
  },
  {
   "cell_type": "code",
   "execution_count": 44,
   "metadata": {},
   "outputs": [
    {
     "data": {
      "text/plain": [
       "[<matplotlib.lines.Line2D at 0x111ae44e0>]"
      ]
     },
     "execution_count": 44,
     "metadata": {},
     "output_type": "execute_result"
    },
    {
     "data": {
      "image/png": "[encoded data removed]",
      "text/plain": [
       "<matplotlib.figure.Figure at 0x10e7c6978>"
      ]
     },
     "metadata": {},
     "output_type": "display_data"
    }
   ],
   "source": [
    "# Plot a light curve example\n",
    "# (Read a LMC X-4 archival data collecting by RXTE/PCA)\n",
    "\n",
    "\n",
    "import numpy as np\n",
    "data = np.loadtxt('../files4examples/Tcol_10135-01-01-000_gx0')  # a list of X-ray photon arrival times\n",
    "\n",
    "# elements of data\n",
    "n = len(data)\n",
    "\n",
    "binsize = 20.0                                     # unit: sec\n",
    "n_col = (data[n-1]-data[0]) // binsize + 1\n",
    "bintime = np.arange(0, n_col)*binsize + data[0] + 0.5*binsize\n",
    "crate = np.arange(0, n_col)*0.0                    # an empty array\n",
    "\n",
    "## for-loop case a.\n",
    "#for i in range(int(n_col)):\n",
    "#    for j in range(n):\n",
    "#        if (data[j] >= bintime[i]-0.5*binsize) and (data[j] < bintime[i]+0.5*binsize):\n",
    "#            crate[i] = crate[i]+ 1.0\n",
    "#crate = crate/binsize\n",
    "## The value used in the function of 'range' must be a integral number.\n",
    "## Or typing 'range?' to check.\n",
    "\n",
    "## for-loop case b.\n",
    "#for i in bintime:\n",
    "#    for j in data:\n",
    "#        if (j >= i-0.5*binsize) and (j < i+0.5*binsize):\n",
    "#            crate[np.where(bintime == i)] = crate[np.where(bintime == i)] + 1.0\n",
    "#crate = crate/binsize\n",
    "\n",
    "## for-loop case c.\n",
    "for i,val in enumerate(bintime):\n",
    "    nn = np.where((data >= val - 0.5*binsize) & (data < (val + 0.5*binsize)))\n",
    "    crate[i] = len(nn[0])\n",
    "crate = crate/binsize\n",
    "\n",
    "\n",
    "import matplotlib.pyplot as plt\n",
    "%matplotlib inline\n",
    "plt.plot(bintime,crate)\n",
    "#plt.show()"
   ]
  },
  {
   "cell_type": "markdown",
   "metadata": {},
   "source": [
    "- while 迴圈"
   ]
  },
  {
   "cell_type": "code",
   "execution_count": 45,
   "metadata": {},
   "outputs": [
    {
     "name": "stdout",
     "output_type": "stream",
     "text": [
      "10\n",
      "9\n",
      "8\n",
      "7\n",
      "6\n",
      "5\n",
      "4\n",
      "3\n",
      "2\n",
      "1\n"
     ]
    }
   ],
   "source": [
    "# Basic example \n",
    "x = 10\n",
    "while x > 0:\n",
    "    print (x)\n",
    "    x = x - 1"
   ]
  },
  {
   "cell_type": "code",
   "execution_count": 46,
   "metadata": {},
   "outputs": [
    {
     "name": "stdout",
     "output_type": "stream",
     "text": [
      "請輸入下一個microquasars的名稱，結束請輸入no : no\n"
     ]
    }
   ],
   "source": [
    "input_value = \"yes\"\n",
    "while input_value == 'yes' :\n",
    "    input_value = input(\"請輸入下一個microquasars的名稱，結束請輸入no : \")"
   ]
  },
  {
   "cell_type": "markdown",
   "metadata": {},
   "source": [
    "- break 及 continue"
   ]
  },
  {
   "cell_type": "code",
   "execution_count": 47,
   "metadata": {},
   "outputs": [
    {
     "name": "stdout",
     "output_type": "stream",
     "text": [
      "請輸入下一個microquasars的名稱，結束請輸入no : no\n"
     ]
    }
   ],
   "source": [
    "input_value == \"yes\"\n",
    "while True :\n",
    "    input_value = input(\"請輸入下一個microquasars的名稱，結束請輸入no : \")\n",
    "    if input_value == \"no\":\n",
    "        break"
   ]
  },
  {
   "cell_type": "code",
   "execution_count": 48,
   "metadata": {},
   "outputs": [
    {
     "name": "stdout",
     "output_type": "stream",
     "text": [
      "22 484\n",
      "62 3844\n",
      "82 6724\n"
     ]
    }
   ],
   "source": [
    "for i in range(2, 100, 20):\n",
    "    if i == 2 or i == 42:\n",
    "        continue\n",
    "    print(i, i ** 2)"
   ]
  },
  {
   "cell_type": "markdown",
   "metadata": {},
   "source": [
    "## 作業小專題"
   ]
  },
  {
   "cell_type": "markdown",
   "metadata": {},
   "source": [
    "Mass function: $f(M) = \\dfrac{M_2^3}{(M_1 + M_2)^2} \\sin^3 i = \\dfrac{P}{2\\pi G} K_1^3$"
   ]
  },
  {
   "cell_type": "markdown",
   "metadata": {},
   "source": [
    "利用google、ADS及書籍，儘可能搜尋數個X-ray雙星系統的以下資訊：伴星質量、軌道傾角、軌道周期、伴星的徑向速度，並寫一個程式能讓你能持續輸入雙星系統的名稱及上述資訊(直到你輸入no為止)，並在程式中利用mass function計算出主星質量，且當主星質量大於三倍太陽質量時，印出\"雙星系統名稱\" + \"的主星是黑洞\"。"
   ]
  },
  {
   "cell_type": "markdown",
   "metadata": {},
   "source": [
    "## 補充文件\n",
    "- Python 3.4 官方教學文件(<a href=\"https://docs.python.org/3.4/tutorial/\" target=\"_blank\">英文版</a>) (<a href=\"http://www.pythondoc.com/pythontutorial3/\">簡中版</a>)</a>\n",
    "- <a href=\"http://www2.mpia-hd.mpg.de/~robitaille/PY4SCI_SS_2015/\" target=\"_blank\">Python for Scientists (天文學家Thomas Robitaille 的課程筆記)</a>\n",
    "- <a href=\"http://www.astro.washington.edu/users/vanderplas/Astr599_2014/\" target=\"_blank\">Scientific Computing with Python (天文學家Jake VanderPlas的課程筆記)</a>\n",
    "- <a href=\"http://www-personal.umich.edu/~mejn/cp/chapters/programming.pdf\" target=\"_blank\">Computational Physics with Python (Chapter 2: Python programming for physicists)</a>\n",
    "- <a href=\"https://docs.python.org/3/library/stdtypes.html\">Python內建型態</a>\n",
    "- <a href=\"https://docs.python.org/3/reference/lexical_analysis.html#strings\" target=\"_blank\">Python跳脫序列</a>\n",
    "- <a href=\"http://markdown.tw/\" target=\"_blank\">Markdown語法說明</a>\n",
    "- <a href=\"https://www.python.org/dev/peps/pep-0008/\" target=\"_blank\">PEP8 – Python 社群慣用的程式碼風格指南</a>"
   ]
  }
 ],
 "metadata": {
  "anaconda-cloud": {},
  "kernelspec": {
   "display_name": "Python [default]",
   "language": "python",
   "name": "python3"
  },
  "language_info": {
   "codemirror_mode": {
    "name": "ipython",
    "version": 3
   },
   "file_extension": ".py",
   "mimetype": "text/x-python",
   "name": "python",
   "nbconvert_exporter": "python",
   "pygments_lexer": "ipython3",
   "version": "3.5.4"
  }
 },
 "nbformat": 4,
 "nbformat_minor": 1
}
