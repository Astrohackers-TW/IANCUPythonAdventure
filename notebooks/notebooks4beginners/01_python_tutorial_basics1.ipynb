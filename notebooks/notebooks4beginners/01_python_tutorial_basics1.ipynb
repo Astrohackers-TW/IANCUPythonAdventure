{
 "cells": [
  {
   "cell_type": "markdown",
   "metadata": {},
   "source": [
    "# Python 基本語法與科學計算套件的使用： Python 基礎(一)"
   ]
  },
  {
   "cell_type": "markdown",
   "metadata": {},
   "source": [
    "## 四堂課程大綱\n",
    "- 第一堂-Python 基礎(一)：Python 簡介及環境建立、Python程式的編寫及執行、資料型態、基本輸入輸出、流程控制\n",
    "- 第二堂-Python 基礎(二)：檔案讀寫、例外處理、函數、模組、物件導向\n",
    "- 第三堂-Python科學計算套件(一)：Numpy、Matplotlib \n",
    "- 第四堂-Python科學計算套件(二)：Scipy、Astropy"
   ]
  },
  {
   "cell_type": "markdown",
   "metadata": {},
   "source": [
    "## Python 簡介\n",
    "- <a href=\"https://www.python.org/\" target=\"_blank\">Python</a> 是一種<a href=\"https://en.wikipedia.org/wiki/Interpreted_language\" target=\"_blank\">直譯式的程式語言</a>\n",
    "- Python的擴充性：<a href=\"https://docs.python.org/3/library/\" target=\"_blank\">標準函式庫</a>+<a href=\"https://pypi.python.org/pypi\" target=\"_blank\">眾多的第三方套件</a>\n",
    "- <a href=\"http://www.astro.ncu.edu.tw/~yhsu/yhsu/%E5%BB%BA%E7%AB%8B%E7%94%A8%E6%96%BC%E7%A7%91%E5%AD%B8%E8%A8%88%E7%AE%97%E7%9A%84python%E9%96%8B%E7%99%BC%E7%92%B0%E5%A2%83/\" target=\"_blank\">建立用於科學計算的Python開發環境</a>\n",
    "- 示範如何編輯及執行Python程式: Python/<a href=\"http://ipython.org/\" target=\"_blank\">IPython</a>互動式命令列介面、文字編輯器(<a href=\"https://atom.io/\">Atom</a>、<a href=\"http://linux.vbird.org/linux_basic/0310vi.php\" target=\"_blank\">Vim</a>、<a href=\"http://www.sublimetext.com/3\" target=\"_blank\">Sublime Text 3</a>、<a href=\"https://notepad-plus-plus.org/\" target=\"_blank\">Notepad++</a>...)、<a href=\"https://wiki.python.org/moin/IntegratedDevelopmentEnvironments\" target=\"_blank\">整合開發環境</a>(Anaconda內建的<a href=\"http://pythonhosted.org/spyder/\" target=\"_blank\">Spyder</a>、<a href=\"https://www.enthought.com/products/canopy/\" target=\"_blank\">Enthought Canopy</a>...)、<a href=\"http://ipython.org/notebook.html\" target=\"_blank\">IPython Notebook </a>(可將程式碼、圖、筆記統整在一份文件中，並可儲存成其他格式分享給別人)"
   ]
  },
  {
   "cell_type": "markdown",
   "metadata": {},
   "source": [
    "## 資料型態(整數、浮點數、複數、字串、布林值)及基本輸出輸入\n",
    "- Python的變數命名是會區分大小寫\n",
    "- 動態定型"
   ]
  },
  {
   "cell_type": "code",
   "execution_count": 1,
   "metadata": {
    "collapsed": false
   },
   "outputs": [
    {
     "data": {
      "text/plain": [
       "int"
      ]
     },
     "execution_count": 1,
     "metadata": {},
     "output_type": "execute_result"
    }
   ],
   "source": [
    "# ←此為Python的註解符號，在這之後的文字不會被當作程式碼執行\n",
    "# Python不用宣告變數型態，在指定變數的值時即會動態決定其型態\n",
    "n_solar_mass = 10                                           # 整數\n",
    "MASS_SUN = 1.99 * 10 ** 30                        # 浮點數\n",
    "z = complex(3., -1.)                                          # 複數                  \n",
    "unit  = \"kg\"                                                         #字串\n",
    "yes = True                                                         #布林值\n",
    "no = False                                                         #布林值\n",
    "type(n_solar_mass)"
   ]
  },
  {
   "cell_type": "markdown",
   "metadata": {},
   "source": [
    "- 基本輸出輸入"
   ]
  },
  {
   "cell_type": "code",
   "execution_count": 2,
   "metadata": {
    "collapsed": false
   },
   "outputs": [
    {
     "name": "stdout",
     "output_type": "stream",
     "text": [
      "伴星的質量為： 1.99e+31 kg\n",
      "請輸入雙星軌道周期 (單位為秒) : 3600\n"
     ]
    }
   ],
   "source": [
    "print(\"伴星的質量為：\", n_solar_mass * MASS_SUN, unit)\n",
    "perid = input(\"請輸入雙星軌道周期 (單位為秒) : \")"
   ]
  },
  {
   "cell_type": "markdown",
   "metadata": {},
   "source": [
    "- 強型別\n",
    "- 轉型"
   ]
  },
  {
   "cell_type": "code",
   "execution_count": 3,
   "metadata": {
    "collapsed": false
   },
   "outputs": [
    {
     "ename": "TypeError",
     "evalue": "unsupported operand type(s) for +: 'float' and 'str'",
     "output_type": "error",
     "traceback": [
      "\u001b[1;31m---------------------------------------------------------------------------\u001b[0m",
      "\u001b[1;31mTypeError\u001b[0m                                 Traceback (most recent call last)",
      "\u001b[1;32m<ipython-input-3-9045cf533177>\u001b[0m in \u001b[0;36m<module>\u001b[1;34m()\u001b[0m\n\u001b[1;32m----> 1\u001b[1;33m \u001b[0mMASS_SUN\u001b[0m \u001b[1;33m+\u001b[0m \u001b[0munit\u001b[0m\u001b[1;33m\u001b[0m\u001b[0m\n\u001b[0m",
      "\u001b[1;31mTypeError\u001b[0m: unsupported operand type(s) for +: 'float' and 'str'"
     ]
    }
   ],
   "source": [
    "MASS_SUN + unit"
   ]
  },
  {
   "cell_type": "code",
   "execution_count": 4,
   "metadata": {
    "collapsed": false
   },
   "outputs": [
    {
     "data": {
      "text/plain": [
       "'1.99e+30kg'"
      ]
     },
     "execution_count": 4,
     "metadata": {},
     "output_type": "execute_result"
    }
   ],
   "source": [
    "str(MASS_SUN) + unit"
   ]
  },
  {
   "cell_type": "markdown",
   "metadata": {
    "collapsed": false
   },
   "source": [
    "- 對變數的操作"
   ]
  },
  {
   "cell_type": "code",
   "execution_count": 5,
   "metadata": {
    "collapsed": false
   },
   "outputs": [
    {
     "data": {
      "text/plain": [
       "['Hello,', 'Python!']"
      ]
     },
     "execution_count": 5,
     "metadata": {},
     "output_type": "execute_result"
    }
   ],
   "source": [
    "s = \"Hello,\" + \" \" + \"Python!\"\n",
    "#s.upper()\n",
    "s.split()"
   ]
  },
  {
   "cell_type": "markdown",
   "metadata": {},
   "source": [
    "## 資料型態(List、Tuple、Dictionary)"
   ]
  },
  {
   "cell_type": "markdown",
   "metadata": {},
   "source": [
    "-  list 是有順序且可以變動"
   ]
  },
  {
   "cell_type": "code",
   "execution_count": 6,
   "metadata": {
    "collapsed": false
   },
   "outputs": [
    {
     "name": "stdout",
     "output_type": "stream",
     "text": [
      "140\n",
      "[140, 220, 592, 314, 244, 'km/s', -342]\n",
      "7\n"
     ]
    }
   ],
   "source": [
    "radial_velocity = [140, 220, 314, 244, 'km/s']    # list用中括號\n",
    "print(radial_velocity[0])                                        # 元素的index從零開始\n",
    "radial_velocity.append(-342)\n",
    "radial_velocity.insert(2, 592)\n",
    "print(radial_velocity)\n",
    "print(len(radial_velocity))"
   ]
  },
  {
   "cell_type": "markdown",
   "metadata": {},
   "source": [
    "-  tuple 是有順序但不可以變動"
   ]
  },
  {
   "cell_type": "code",
   "execution_count": 7,
   "metadata": {
    "collapsed": false
   },
   "outputs": [
    {
     "name": "stdout",
     "output_type": "stream",
     "text": [
      "(3.14159, 1.99e+30, 6.67e-11)\n"
     ]
    },
    {
     "ename": "AttributeError",
     "evalue": "'tuple' object has no attribute 'append'",
     "output_type": "error",
     "traceback": [
      "\u001b[1;31m---------------------------------------------------------------------------\u001b[0m",
      "\u001b[1;31mAttributeError\u001b[0m                            Traceback (most recent call last)",
      "\u001b[1;32m<ipython-input-7-bd74f119f41b>\u001b[0m in \u001b[0;36m<module>\u001b[1;34m()\u001b[0m\n\u001b[0;32m      1\u001b[0m \u001b[0mconstants\u001b[0m \u001b[1;33m=\u001b[0m \u001b[1;33m(\u001b[0m\u001b[1;36m3.14159\u001b[0m\u001b[1;33m,\u001b[0m \u001b[1;36m1.99\u001b[0m \u001b[1;33m*\u001b[0m \u001b[1;36m10\u001b[0m \u001b[1;33m**\u001b[0m \u001b[1;36m30\u001b[0m \u001b[1;33m,\u001b[0m  \u001b[1;36m6.67\u001b[0m \u001b[1;33m*\u001b[0m \u001b[1;36m10\u001b[0m \u001b[1;33m**\u001b[0m \u001b[1;33m-\u001b[0m\u001b[1;36m11\u001b[0m\u001b[1;33m)\u001b[0m   \u001b[1;31m# tuple用小括號\u001b[0m\u001b[1;33m\u001b[0m\u001b[0m\n\u001b[0;32m      2\u001b[0m \u001b[0mprint\u001b[0m\u001b[1;33m(\u001b[0m\u001b[0mconstants\u001b[0m\u001b[1;33m)\u001b[0m\u001b[1;33m\u001b[0m\u001b[0m\n\u001b[1;32m----> 3\u001b[1;33m \u001b[0mconstants\u001b[0m\u001b[1;33m.\u001b[0m\u001b[0mappend\u001b[0m\u001b[1;33m(\u001b[0m\u001b[1;33m-\u001b[0m\u001b[1;36m342\u001b[0m\u001b[1;33m)\u001b[0m\u001b[1;33m\u001b[0m\u001b[0m\n\u001b[0m",
      "\u001b[1;31mAttributeError\u001b[0m: 'tuple' object has no attribute 'append'"
     ]
    }
   ],
   "source": [
    "constants = (3.14159, 1.99 * 10 ** 30 ,  6.67 * 10 ** -11)   # tuple用小括號\n",
    "print(constants)\n",
    "constants.append(-342)"
   ]
  },
  {
   "cell_type": "markdown",
   "metadata": {},
   "source": [
    "-  dictionary 是無順序且可以變動"
   ]
  },
  {
   "cell_type": "code",
   "execution_count": 8,
   "metadata": {
    "collapsed": false
   },
   "outputs": [
    {
     "name": "stdout",
     "output_type": "stream",
     "text": [
      "['GX 339-4', 'GRS 1915+105']\n",
      "(3.14159, 1.99e+30, 6.67e-11)\n",
      "{'constants': (3.14159, 1.99e+30, 6.67e-11), 'name': ['GX 339-4', 'GRS 1915+105'], 'mass': []}\n"
     ]
    }
   ],
   "source": [
    "binaries = {'name':[\"GX 339-4\",\"GRS 1915+105\"], 'constants': constants}                   # dictionary用大括號\n",
    "print(binaries['name'])\n",
    "print(binaries['constants'])\n",
    "binaries['mass'] = [ ]\n",
    "print(binaries)"
   ]
  },
  {
   "cell_type": "markdown",
   "metadata": {},
   "source": [
    "- Slicing"
   ]
  },
  {
   "cell_type": "code",
   "execution_count": 9,
   "metadata": {
    "collapsed": false
   },
   "outputs": [
    {
     "name": "stdout",
     "output_type": "stream",
     "text": [
      "[592, 314, 244]\n",
      "[140, 314]\n"
     ]
    }
   ],
   "source": [
    "print(radial_velocity[2:5])                        # [i:j] 從i開始到j-1\n",
    "print(radial_velocity[:-2:3])                     # [i:j:k] 從i開始每隔k個到j-1"
   ]
  },
  {
   "cell_type": "markdown",
   "metadata": {},
   "source": [
    "## 流程控制：條件判斷式及迴圈\n",
    "- 依據某些條件(條件判斷式)或多次執行某個程式區塊(迴圈)，來控制程式的執行流程\n",
    "- Python使用冒號及縮排來辨別程式區塊\n",
    "- if...else if...else 條件判斷式"
   ]
  },
  {
   "cell_type": "code",
   "execution_count": 10,
   "metadata": {
    "collapsed": false
   },
   "outputs": [
    {
     "name": "stdout",
     "output_type": "stream",
     "text": [
      "They are microquasars!\n"
     ]
    },
    {
     "data": {
      "text/plain": [
       "['GX 339-4', 'GRS 1915+105']"
      ]
     },
     "execution_count": 10,
     "metadata": {},
     "output_type": "execute_result"
    }
   ],
   "source": [
    "if \"GRS 1915+105\" or \"GX 339-4\" in binaries['name']:\n",
    "    print('They are microquasars!')\n",
    "elif \"XTE J1550-564\" not in binaries['name']:\n",
    "    print('XTE J1550-564 is not in the list!')\n",
    "else:\n",
    "    binaries['name'].append( input(\"請輸入下一個microquasars的名稱 : \") )\n",
    "binaries['name']"
   ]
  },
  {
   "cell_type": "markdown",
   "metadata": {},
   "source": [
    "- for 迴圈"
   ]
  },
  {
   "cell_type": "code",
   "execution_count": 11,
   "metadata": {
    "collapsed": false
   },
   "outputs": [
    {
     "name": "stdout",
     "output_type": "stream",
     "text": [
      "GRS 1915+105 is a microquasar!\n",
      "GX 339-4 is a microquasar!\n",
      "2 4\n",
      "22 484\n",
      "42 1764\n",
      "62 3844\n",
      "82 6724\n"
     ]
    }
   ],
   "source": [
    "microquasars = [\"GRS 1915+105\" , \"GX 339-4\"]\n",
    "for m in microquasars:\n",
    "    if m in binaries['name']:\n",
    "        print(m, \"is a microquasar!\")\n",
    "        \n",
    "for i in range(2, 100, 20):\n",
    "    print(i, i ** 2)"
   ]
  },
  {
   "cell_type": "markdown",
   "metadata": {},
   "source": [
    "- while 迴圈"
   ]
  },
  {
   "cell_type": "code",
   "execution_count": 12,
   "metadata": {
    "collapsed": false
   },
   "outputs": [
    {
     "name": "stdout",
     "output_type": "stream",
     "text": [
      "請輸入下一個microquasars的名稱，結束請輸入no : no\n"
     ]
    }
   ],
   "source": [
    "input_value = \"yes\"\n",
    "while input_value == 'yes' :\n",
    "    input_value = input(\"請輸入下一個microquasars的名稱，結束請輸入no : \")"
   ]
  },
  {
   "cell_type": "markdown",
   "metadata": {},
   "source": [
    "- break 及 continue"
   ]
  },
  {
   "cell_type": "code",
   "execution_count": 13,
   "metadata": {
    "collapsed": false
   },
   "outputs": [
    {
     "name": "stdout",
     "output_type": "stream",
     "text": [
      "請輸入下一個microquasars的名稱，結束請輸入no : no\n"
     ]
    }
   ],
   "source": [
    "input_value == \"yes\"\n",
    "while True :\n",
    "    input_value = input(\"請輸入下一個microquasars的名稱，結束請輸入no : \")\n",
    "    if input_value == \"no\":\n",
    "        break"
   ]
  },
  {
   "cell_type": "code",
   "execution_count": 14,
   "metadata": {
    "collapsed": false
   },
   "outputs": [
    {
     "name": "stdout",
     "output_type": "stream",
     "text": [
      "22 484\n",
      "62 3844\n",
      "82 6724\n"
     ]
    }
   ],
   "source": [
    "for i in range(2, 100, 20):\n",
    "    if i == 2 or i == 42:\n",
    "        continue\n",
    "    print(i, i ** 2)"
   ]
  },
  {
   "cell_type": "markdown",
   "metadata": {},
   "source": [
    "## 作業小專題"
   ]
  },
  {
   "cell_type": "markdown",
   "metadata": {},
   "source": [
    "Mass function: $f(M) = \\dfrac{M_2^3}{(M_1 + M_2)^2} \\sin^3 i = \\dfrac{P}{2\\pi G} K_1^3$"
   ]
  },
  {
   "cell_type": "markdown",
   "metadata": {},
   "source": [
    "利用google、ADS及書籍，儘可能搜尋數個X-ray雙星系統的以下資訊：伴星質量、軌道傾角、軌道周期、伴星的徑向速度，並寫一個程式能讓你能持續輸入雙星系統的名稱及上述資訊(直到你輸入no為止)，並在程式中利用mass function計算出主星質量，且當主星質量大於三倍太陽質量時，印出\"雙星系統名稱\" + \"的主星是黑洞\"。"
   ]
  },
  {
   "cell_type": "markdown",
   "metadata": {},
   "source": [
    "## 補充文件\n",
    "- Python 3.4 官方教學文件(<a href=\"https://docs.python.org/3.4/tutorial/\" target=\"_blank\">英文版</a>) (<a href=\"http://www.pythondoc.com/pythontutorial3/\">簡中版</a>)</a>\n",
    "- <a href=\"http://www2.mpia-hd.mpg.de/~robitaille/PY4SCI_SS_2015/\" target=\"_blank\">Python for Scientists (天文學家Thomas Robitaille 的課程筆記)</a>\n",
    "- <a href=\"http://www.astro.washington.edu/users/vanderplas/Astr599_2014/\" target=\"_blank\">Scientific Computing with Python (天文學家Jake VanderPlas的課程筆記)</a>\n",
    "- <a href=\"http://www-personal.umich.edu/~mejn/cp/chapters/programming.pdf\" target=\"_blank\">Computational Physics with Python (Chapter 2: Python programming for physicists)</a>\n",
    "- <a href=\"https://docs.python.org/3/library/stdtypes.html\">Python內建型態</a>\n",
    "- <a href=\"https://docs.python.org/3/reference/lexical_analysis.html#strings\" target=\"_blank\">Python跳脫序列</a>\n",
    "- <a href=\"http://markdown.tw/\" target=\"_blank\">Markdown語法說明</a>\n",
    "- <a href=\"https://www.python.org/dev/peps/pep-0008/\" target=\"_blank\">PEP8 – Python 社群慣用的程式碼風格指南</a>\n",
    "- <a href=\"http://www.astro.ncu.edu.tw/~yhsu/yhsu/%E5%BB%BA%E7%AB%8B%E7%94%A8%E6%96%BC%E7%A7%91%E5%AD%B8%E8%A8%88%E7%AE%97%E7%9A%84python%E9%96%8B%E7%99%BC%E7%92%B0%E5%A2%83/#%E5%AD%B8%E7%BF%92%E8%B3%87%E6%BA%90\" target=\"_blank\">更多學習資源</a>"
   ]
  },
  {
   "cell_type": "markdown",
   "metadata": {
    "collapsed": true
   },
   "source": [
    "## 授權條款 ##\n",
    "\n",
    "「Python在天文研究上的應用之系列文章」由<a href=\"https://github.com/YihaoSu\">蘇羿豪</a>製作，以<a href=\"https://github.com/YihaoSu/astropython-notes/blob/master/LICENSE\">MIT授權條款</a>釋出。\n",
    "\n",
    "此系列文章是用IPython Notebook編寫，若你想要修改重製文章，可在終端機輸入以下指令(需安裝<a href=\"http://git-scm.com/downloads\" target=\"_blank\">git</a>)下載原始碼：\n",
    "\n",
    "``` shell\n",
    "git clone https://github.com/YihaoSu/astropython-notes.git\n",
    "```\n",
    "或者直接下載原始碼壓縮檔 https://github.com/YihaoSu/astropython-notes/archive/master.zip"
   ]
  }
 ],
 "metadata": {
  "anaconda-cloud": {},
  "kernelspec": {
   "display_name": "Python [Root]",
   "language": "python",
   "name": "Python [Root]"
  },
  "language_info": {
   "codemirror_mode": {
    "name": "ipython",
    "version": 3
   },
   "file_extension": ".py",
   "mimetype": "text/x-python",
   "name": "python",
   "nbconvert_exporter": "python",
   "pygments_lexer": "ipython3",
   "version": "3.5.2"
  }
 },
 "nbformat": 4,
 "nbformat_minor": 0
}
