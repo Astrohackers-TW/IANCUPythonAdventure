{
 "cells": [
  {
   "cell_type": "markdown",
   "metadata": {},
   "source": [
    "# Python 基本語法與科學計算套件的使用： Python 基礎(二)"
   ]
  },
  {
   "cell_type": "markdown",
   "metadata": {},
   "source": [
    "## 四堂課程大綱\n",
    "- 第一堂-Python 基礎(一)：Python 簡介及環境建立、Python程式的編寫及執行、資料型態、基本輸入輸出、流程控制\n",
    "- 第二堂-Python 基礎(二)：檔案讀寫、例外處理、函數、模組、物件導向\n",
    "- 第三堂-Python科學計算套件(一)：Numpy、Matplotlib \n",
    "- 第四堂-Python科學計算套件(二)：Scipy、Astropy"
   ]
  },
  {
   "cell_type": "markdown",
   "metadata": {},
   "source": [
    "## 檔案讀寫\n",
    "使用<a href=\"https://docs.python.org/3.4/library/functions.html#open\" target=\"_blank\">open()</a>函數開啟檔案，第一個參數為檔名，第二個參數為對該檔案的使用方法：\n",
    "- 只讀取檔案中的資料(預設): r\n",
    "- 開啟一個新檔案將資料寫入，若檔案已存在，則會複寫: w\n",
    "- 將資料累加至所開啟的檔案末端: a\n",
    "- 讀寫檔案資料: r+"
   ]
  },
  {
   "cell_type": "code",
   "execution_count": 1,
   "metadata": {
    "collapsed": true
   },
   "outputs": [],
   "source": [
    "# 開啟一個新檔案來寫入黑洞X-ray雙星的資訊\n",
    "file = open('BHXBs.txt', 'w') \n",
    "file.write('黑洞X-ray雙星名稱, Mass Function (單位：太陽質量)\\n')\n",
    "file.writelines(['GX 339-4,  %4.2f\\n' %(5.8), 'GRS 1915+105, %4.2f\\n' %(9.5), 'XTE J1550-564,  %4.2f\\n' %(6.9)]) # 格式化字串舊用法\n",
    "file.close()"
   ]
  },
  {
   "cell_type": "code",
   "execution_count": 2,
   "metadata": {
    "collapsed": false
   },
   "outputs": [
    {
     "name": "stdout",
     "output_type": "stream",
     "text": [
      "黑洞X-ray雙星名稱, Mass Function (單位：太陽質量)\n",
      "GX 339-4,  5.80\n",
      "GRS 1915+105, 9.50\n",
      "XTE J1550-564,  6.90\n"
     ]
    }
   ],
   "source": [
    "# 讀取BHXBs.txt 並印出每一行內容\n",
    "file = open('BHXBs.txt')\n",
    "for line in file:\n",
    "    print(line[:-1])\n",
    "file.close()"
   ]
  },
  {
   "cell_type": "markdown",
   "metadata": {
    "collapsed": true
   },
   "source": [
    "## 例外處理"
   ]
  },
  {
   "cell_type": "markdown",
   "metadata": {},
   "source": [
    "- 沒有使用例外處理"
   ]
  },
  {
   "cell_type": "code",
   "execution_count": 3,
   "metadata": {
    "collapsed": false
   },
   "outputs": [
    {
     "name": "stdout",
     "output_type": "stream",
     "text": [
      "請輸入雙星軌道周期 (單位為秒，請輸入數字)： 嘿嘿，我偏不輸入數字\n"
     ]
    },
    {
     "ename": "ValueError",
     "evalue": "could not convert string to float: '嘿嘿，我偏不輸入數字'",
     "output_type": "error",
     "traceback": [
      "\u001b[1;31m---------------------------------------------------------------------------\u001b[0m",
      "\u001b[1;31mValueError\u001b[0m                                Traceback (most recent call last)",
      "\u001b[1;32m<ipython-input-3-ec5f60319f26>\u001b[0m in \u001b[0;36m<module>\u001b[1;34m()\u001b[0m\n\u001b[0;32m      1\u001b[0m \u001b[0mperiod\u001b[0m \u001b[1;33m=\u001b[0m \u001b[0minput\u001b[0m\u001b[1;33m(\u001b[0m\u001b[1;34m\"請輸入雙星軌道周期 (單位為秒，請輸入數字)： \"\u001b[0m\u001b[1;33m)\u001b[0m\u001b[1;33m\u001b[0m\u001b[0m\n\u001b[1;32m----> 2\u001b[1;33m \u001b[0mperiod\u001b[0m \u001b[1;33m=\u001b[0m \u001b[0mfloat\u001b[0m\u001b[1;33m(\u001b[0m\u001b[0mperiod\u001b[0m\u001b[1;33m)\u001b[0m\u001b[1;33m\u001b[0m\u001b[0m\n\u001b[0m\u001b[0;32m      3\u001b[0m \u001b[0mprint\u001b[0m\u001b[1;33m(\u001b[0m\u001b[0mperiod\u001b[0m\u001b[1;33m)\u001b[0m\u001b[1;33m\u001b[0m\u001b[0m\n",
      "\u001b[1;31mValueError\u001b[0m: could not convert string to float: '嘿嘿，我偏不輸入數字'"
     ]
    }
   ],
   "source": [
    "period = input(\"請輸入雙星軌道周期 (單位為秒，請輸入數字)： \")\n",
    "period = float(period)\n",
    "print(period)"
   ]
  },
  {
   "cell_type": "markdown",
   "metadata": {},
   "source": [
    "- 使用例外處理"
   ]
  },
  {
   "cell_type": "code",
   "execution_count": 4,
   "metadata": {
    "collapsed": false
   },
   "outputs": [
    {
     "name": "stdout",
     "output_type": "stream",
     "text": [
      "請輸入雙星軌道周期 (單位為秒，請輸入數字)： 嘿嘿，我偏不輸入數字\n",
      "抓到了，你不是輸入數字!\n"
     ]
    }
   ],
   "source": [
    "try:\n",
    "    period = input(\"請輸入雙星軌道周期 (單位為秒，請輸入數字)： \")\n",
    "    period = float(period)\n",
    "    print(period)\n",
    "except:\n",
    "    print(\"抓到了，你不是輸入數字!\")"
   ]
  },
  {
   "cell_type": "markdown",
   "metadata": {},
   "source": [
    "- 針對不同例外情形做處理"
   ]
  },
  {
   "cell_type": "code",
   "execution_count": 5,
   "metadata": {
    "collapsed": false
   },
   "outputs": [
    {
     "name": "stdout",
     "output_type": "stream",
     "text": [
      "檔案不存在，無法開啟！\n"
     ]
    }
   ],
   "source": [
    "try:\n",
    "    file = open('NSXBs.txt', 'r')\n",
    "    print(float('周期'))\n",
    "except IOError:\n",
    "    print('檔案不存在，無法開啟！')\n",
    "except ValueError:\n",
    "    print('你輸入的資料無法轉成數值！')\n",
    "else:\n",
    "    file.close()"
   ]
  },
  {
   "cell_type": "markdown",
   "metadata": {
    "collapsed": true
   },
   "source": [
    "## 模組與套件"
   ]
  },
  {
   "cell_type": "markdown",
   "metadata": {},
   "source": [
    "- 引入模組、套件的方法"
   ]
  },
  {
   "cell_type": "code",
   "execution_count": 6,
   "metadata": {
    "collapsed": false
   },
   "outputs": [
    {
     "name": "stdout",
     "output_type": "stream",
     "text": [
      "3.141592653589793\n"
     ]
    }
   ],
   "source": [
    "import math\n",
    "print(math.pi)"
   ]
  },
  {
   "cell_type": "code",
   "execution_count": 7,
   "metadata": {
    "collapsed": false
   },
   "outputs": [
    {
     "name": "stdout",
     "output_type": "stream",
     "text": [
      "3.141592653589793\n"
     ]
    }
   ],
   "source": [
    "import numpy as np\n",
    "print(np.pi)"
   ]
  },
  {
   "cell_type": "code",
   "execution_count": 8,
   "metadata": {
    "collapsed": false
   },
   "outputs": [
    {
     "name": "stdout",
     "output_type": "stream",
     "text": [
      "4.193297343046741e-10 m3 / (kg s2)\n",
      "5.9673e+30 kg\n"
     ]
    }
   ],
   "source": [
    "from astropy.constants import G, M_sun\n",
    "print(2 * np.pi * G)\n",
    "print(3 * M_sun)"
   ]
  },
  {
   "cell_type": "markdown",
   "metadata": {},
   "source": [
    "## 自訂函數"
   ]
  },
  {
   "cell_type": "markdown",
   "metadata": {},
   "source": [
    "- 使用關鍵字<a href=\"https://docs.python.org/3.4/reference/compound_stmts.html#def\" target=\"_blank\">def</a>以自訂函數，並用<a href=\"https://docs.python.org/3.4/tutorial/controlflow.html#tut-docstrings\" target=\"_blank\">文件字串(documentation strings)</a>註解函數的使用說明。"
   ]
  },
  {
   "cell_type": "code",
   "execution_count": 9,
   "metadata": {
    "collapsed": false
   },
   "outputs": [],
   "source": [
    "def mass_function(period, radial_velocity):\n",
    "    \"\"\"    \n",
    "    輸入雙星軌道周期及伴星的徑向速度，印出雙星系統的mass function。\n",
    "    \n",
    "    Parameters\n",
    "    ----------------   \n",
    "    period: 數字\n",
    "            軌道周期 (單位為 s)。\n",
    "    radial_velocity: 數字\n",
    "            伴星的徑向速度 (單位為 m/s)    \n",
    "    \"\"\"\n",
    "    G = 6.67 * 10 ** -11\n",
    "    print(period / (2 * np.pi * G) * radial_velocity ** 3)"
   ]
  },
  {
   "cell_type": "code",
   "execution_count": 10,
   "metadata": {
    "collapsed": false
   },
   "outputs": [
    {
     "name": "stdout",
     "output_type": "stream",
     "text": [
      "2.199058404100311e+31\n"
     ]
    }
   ],
   "source": [
    "mass_function(144000, 400000)"
   ]
  },
  {
   "cell_type": "code",
   "execution_count": 11,
   "metadata": {
    "collapsed": false
   },
   "outputs": [
    {
     "name": "stdout",
     "output_type": "stream",
     "text": [
      "  Name   = Gravitational constant\n",
      "  Value  = 6.67384e-11\n",
      "  Error  = 8e-15\n",
      "  Units  = m3 / (kg s2)\n",
      "  Reference = CODATA 2010\n"
     ]
    }
   ],
   "source": [
    "mass_function?\n",
    "print(G)"
   ]
  },
  {
   "cell_type": "markdown",
   "metadata": {},
   "source": [
    "- 使用關鍵字<a href=\"https://docs.python.org/3.4/reference/simple_stmts.html#return\" target=\"_blank\">return</a>回傳函數的結果"
   ]
  },
  {
   "cell_type": "code",
   "execution_count": 12,
   "metadata": {
    "collapsed": true
   },
   "outputs": [],
   "source": [
    "def mass_function2(period, radial_velocity):\n",
    "    \"\"\"    \n",
    "    輸入雙星軌道周期及伴星的徑向速度，回傳雙星系統的mass function。\n",
    "    \n",
    "    Parameters\n",
    "    ----------------\n",
    "    period: 數字\n",
    "            軌道周期 (單位為 s)。\n",
    "    radial_velocity: 數字\n",
    "            伴星的徑向速度 (單位為 m/s)\n",
    "    \n",
    "    Returns\n",
    "    -----------\n",
    "    result: 數字\n",
    "            mass function的計算值。    \n",
    "    \"\"\"\n",
    "    G = 6.67 * 10 ** -11\n",
    "    result = period / (2 * np.pi * G) * radial_velocity ** 3\n",
    "    return result"
   ]
  },
  {
   "cell_type": "code",
   "execution_count": 13,
   "metadata": {
    "collapsed": false
   },
   "outputs": [
    {
     "data": {
      "text/plain": [
       "2.199058404100311e+31"
      ]
     },
     "execution_count": 13,
     "metadata": {},
     "output_type": "execute_result"
    }
   ],
   "source": [
    " mass_function2(144000, 400000)"
   ]
  },
  {
   "cell_type": "markdown",
   "metadata": {},
   "source": [
    "- 預設引數值 (<a href=\"https://docs.python.org/3/faq/programming.html#faq-argument-vs-parameter\" target=\"_blank\">參數與引數的差別</a>)"
   ]
  },
  {
   "cell_type": "code",
   "execution_count": 14,
   "metadata": {
    "collapsed": false
   },
   "outputs": [],
   "source": [
    "def mass_function3(period, radial_velocity = 400000):\n",
    "    \"\"\"    \n",
    "    輸入雙星軌道周期及伴星的徑向速度，回傳雙星系統的mass function。\n",
    "    \n",
    "    Parameters\n",
    "    ----------------\n",
    "    period: 數字\n",
    "            軌道周期 (單位為 s)。\n",
    "    radial_velocity: 數字\n",
    "            伴星的徑向速度 (單位為 m/s)，預設值為400000。\n",
    "    \n",
    "    Returns\n",
    "    -----------\n",
    "    result: 數字\n",
    "            mass function的計算值。    \n",
    "    \"\"\"\n",
    "    G = 6.67 * 10 ** -11\n",
    "    result = period / (2 * np.pi * G) * radial_velocity ** 3\n",
    "    return result"
   ]
  },
  {
   "cell_type": "code",
   "execution_count": 15,
   "metadata": {
    "collapsed": false
   },
   "outputs": [
    {
     "data": {
      "text/plain": [
       "2.199058404100311e+31"
      ]
     },
     "execution_count": 15,
     "metadata": {},
     "output_type": "execute_result"
    }
   ],
   "source": [
    " mass_function3(144000)"
   ]
  },
  {
   "cell_type": "markdown",
   "metadata": {},
   "source": [
    "## 物件導向與類別"
   ]
  },
  {
   "cell_type": "markdown",
   "metadata": {},
   "source": [
    "- 待編輯"
   ]
  },
  {
   "cell_type": "markdown",
   "metadata": {},
   "source": [
    "## 作業小專題"
   ]
  },
  {
   "cell_type": "markdown",
   "metadata": {},
   "source": [
    "- 修改上堂課的作業，將程式所挑出的黑洞X-ray雙星相關資訊寫進一個檔案中\n",
    "- 修改上堂課的作業，增加例外處理至程式中，避免使用者輸入非預期的值\n",
    "- 修改上堂課的作業，將要計算的式子寫成自訂函數，並在程式中引用"
   ]
  },
  {
   "cell_type": "markdown",
   "metadata": {},
   "source": [
    "## 補充文件\n",
    "- <a href=\"https://docs.python.org/3.4/tutorial/inputoutput.html#reading-and-writing-files\" target=\"_blank\">Python 3.4 官方教學文件中關於檔案讀寫的章節</a>\n",
    "- <a href=\"https://docs.python.org/3.4/tutorial/inputoutput.html#fancier-output-formatting\" target=\"_blank\">Python 3.4 官方教學文件中關於格式化字串的章節</a>\n",
    "- <a href=\"https://docs.python.org/3.4/tutorial/errors.html\" target=\"_blank\">Python 3.4 官方教學文件中關於異常處理的章節</a>\n",
    "- <a href=\"https://docs.python.org/3.4/tutorial/modules.html\" target=\"_blank\">Python 3.4 官方教學文件中關於模組與套件的章節</a>\n",
    "- <a href=\"https://docs.python.org/3.4/tutorial/controlflow.html#defining-functions\" target=\"_blank\">Python 3.4 官方教學文件中關於自訂函數的章節</a>\n",
    "- <a href=\"https://docs.python.org/3.4/tutorial/classes.html\" target=\"_blank\">Python 3.4 官方教學文件中關於物件導向與類別的章節</a>\n",
    "- <a href=\"https://docs.python.org/3.4/library/index.html\" target=\"_blank\">Python內建的模組 (標準函式庫)</a>\n",
    "- <a href=\"https://docs.python.org/3.4/installing/index.html\" target=\"_blank\">安裝Python模組套件</a>\n",
    "- <a href=\"https://docs.python.org/3.4/distributing/index.html\" target=\"_blank\">發佈你所寫的模組套件</a>\n",
    "- <a href=\"http://www2.mpia-hd.mpg.de/~robitaille/PY4SCI_SS_2015/\" target=\"_blank\">Python for Scientists (天文學家Thomas Robitaille 的課程筆記)</a>\n",
    "- <a href=\"http://www.astro.washington.edu/users/vanderplas/Astr599_2014/\" target=\"_blank\">Scientific Computing with Python (天文學家Jake VanderPlas的課程筆記)</a>\n",
    "- <a href=\"http://www-personal.umich.edu/~mejn/cp/chapters/programming.pdf\" target=\"_blank\">Computational Physics with Python (Chapter 2: Python programming for physicists)</a>"
   ]
  }
 ],
 "metadata": {
  "anaconda-cloud": {},
  "kernelspec": {
   "display_name": "Python [Root]",
   "language": "python",
   "name": "Python [Root]"
  },
  "language_info": {
   "codemirror_mode": {
    "name": "ipython",
    "version": 3
   },
   "file_extension": ".py",
   "mimetype": "text/x-python",
   "name": "python",
   "nbconvert_exporter": "python",
   "pygments_lexer": "ipython3",
   "version": "3.5.2"
  }
 },
 "nbformat": 4,
 "nbformat_minor": 0
}
