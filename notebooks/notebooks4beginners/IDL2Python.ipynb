{
 "cells": [
  {
   "cell_type": "markdown",
   "metadata": {
    "nbpresent": {
     "id": "f630fdfe-1e43-4f3f-9032-6457807fe037"
    }
   },
   "source": [
    "# IDL函式與Python的對照表\n",
    "* [Python Equivalents for IDL commands](http://www.astrobetter.com/wiki/tiki-index.php?page=Python+Switchers+Guide) (2012年)\n",
    "* [NumPy for IDL users](http://mathesaurus.sourceforge.net/idl-numpy.html) (2007年)"
   ]
  },
  {
   "cell_type": "markdown",
   "metadata": {},
   "source": [
    "## \t常用函式 (未來或許需要分類?)"
   ]
  },
  {
   "cell_type": "markdown",
   "metadata": {
    "collapsed": true
   },
   "source": [
    "| 用途 | IDL | Python |\n",
    "|:------:|:--------:|:-------:|\n",
    "| 搜尋資料夾下的檔名 | [file_search](http://www.harrisgeospatial.com/docs/FILE_SEARCH.html) | [os.listdir](http://www.tutorialspoint.com/python/os_listdir.htm), [glob.glob](https://docs.python.org/3.5/library/glob.html) |\n",
    "| 數陣列裡有幾個元素 | [n_elements](http://www.harrisgeospatial.com/docs/N_ELEMENTS.html) | [len](http://www.tutorialspoint.com/python/list_len.htm) |\n",
    "| 傳回符合條件的index | [where](http://www.harrisgeospatial.com/docs/WHERE.html) | [numpy.where](https://docs.scipy.org/doc/numpy/reference/generated/numpy.where.html) |\n",
    "| 讀取FITS檔案 | [mrdfits](https://idlastro.gsfc.nasa.gov/ftp/pro/fits/mrdfits.pro) | [astropy.io.fits](http://docs.astropy.org/en/stable/io/fits/) |\n",
    "| 讀寫檔案 | [openr/openu/openw](http://www.harrisgeospatial.com/docs/OPEN.html) | [astropy.io.ascii](http://docs.astropy.org/en/stable/io/ascii/index.html), [Input and output routines in NumPy](https://docs.scipy.org/doc/numpy/reference/routines.io.html), [open](https://docs.python.org/3/library/functions.html#open) |\n",
    "| 計算luminosity distance, from redshift to Mpc | [lumdist](https://idlastro.gsfc.nasa.gov/ftp/pro/astro/lumdist.pro) | [astropy.cosmology.FLRW.luminosity_distance(z)](http://docs.astropy.org/en/stable/cosmology/#using-astropy-cosmology) |\n",
    "| 將字串前後空白的部分去除 | [strtrim](http://www.harrisgeospatial.com/docs/STRTRIM.html) | [ \tstring.strip()](http://www.tutorialspoint.com/python/string_strip.htm) |\n",
    "| 將字串中的空白部分去除 | [strcompress](https://www.harrisgeospatial.com/docs/strcompress.html) | [string.replace(' ','')](http://www.tutorialspoint.com/python/string_replace.htm) |\n",
    "| 傳回系統時間 | [systime](http://www.harrisgeospatial.com/docs/SYSTIME.html) | [time.time()](https://docs.python.org/3.5/library/time.html#time.time) |\n",
    "| 畫3D圖 | [plot3d](http://www.harrisgeospatial.com/docs/PLOT3D.html) | [mplot3d](http://matplotlib.org/1.5.1/mpl_toolkits/mplot3d/index.html) |\n",
    "| 查看兩個向量中哪些元素相同 | [match](https://idlastro.gsfc.nasa.gov/ftp/pro/misc/match.pro) | []() |\n"
   ]
  }
 ],
 "metadata": {
  "anaconda-cloud": {},
  "kernelspec": {
   "display_name": "Python 2",
   "language": "python",
   "name": "python2"
  },
  "language_info": {
   "codemirror_mode": {
    "name": "ipython",
    "version": 2
   },
   "file_extension": ".py",
   "mimetype": "text/x-python",
   "name": "python",
   "nbconvert_exporter": "python",
   "pygments_lexer": "ipython2",
   "version": "2.7.13"
  },
  "nbpresent": {
   "slides": {
    "7388705d-dc92-47c7-8d53-52f806508d40": {
     "id": "7388705d-dc92-47c7-8d53-52f806508d40",
     "prev": "8aae12ec-4286-431b-b81c-482da67c8617",
     "regions": {}
    },
    "8aae12ec-4286-431b-b81c-482da67c8617": {
     "id": "8aae12ec-4286-431b-b81c-482da67c8617",
     "prev": "c7cbc35d-5d19-49e5-a465-271faeca82b8",
     "regions": {}
    },
    "c7cbc35d-5d19-49e5-a465-271faeca82b8": {
     "id": "c7cbc35d-5d19-49e5-a465-271faeca82b8",
     "prev": null,
     "regions": {}
    }
   },
   "themes": {}
  }
 },
 "nbformat": 4,
 "nbformat_minor": 0
}
