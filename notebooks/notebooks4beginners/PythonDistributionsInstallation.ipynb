{
 "cells": [
  {
   "cell_type": "markdown",
   "metadata": {},
   "source": [
    "# Python 的安裝及各發行版本的操作介紹\n",
    "* [Python distributions](https://wiki.python.org/moin/PythonDistributions) \n",
    "* [Anaconda distribution](https://docs.continuum.io/anaconda/) \n",
    "* [Python官網的CPython distribution](https://www.python.org/downloads/)"
   ]
  },
  {
   "cell_type": "markdown",
   "metadata": {},
   "source": [
    "## Python直譯器和Python發行版本\n",
    "因其開源的特性，Python社群會依據不同需求，把Python直譯器(命令列介面)、圖形化介面工具(編輯器、檔案瀏覽視窗、功能選單等)、第三方套件及套件管理工具整合成不同的[Python發行版本(Python distributions)](https://wiki.python.org/moin/PythonDistributions)。\n",
    "\n",
    "Python官網所提供的[CPython發行版本](https://www.python.org/downloads/)只含Python直譯器和功能簡單的編輯器，不包含用於科學計算的第三方套件。 另外，Linux、Mac OS X也只內建Python直譯器，因此，若想快速建立用於科學計算的Python開發環境，可考慮安裝[Anaconda發行版本](https://docs.continuum.io/anaconda/)，它的官網有提供[下載連結](https://www.continuum.io/downloads)及[針對Linux、Mac OS X、Windows三個作業系統的個別安裝說明](https://docs.continuum.io/anaconda/install.html)。\n",
    "\n",
    "Anaconda發行版本至少包含NumPy、SciPy、Matplotlib這幾個[用於科學計算的第三方套件](http://www.scipy.org)，讓使用者可以完成檔案讀寫、矩陣運算、畫圖、線性代數、積分、內插、訊號與影像分析、解微分方程...等科學運算用途。 該發行版本也包含[IPython](http://ipython.org)互動式命令列介面，相較於預設的Python命令列介面，它有指令補齊、執行系統指令、瀏覽輸入過的程式碼...等進階功能。"
   ]
  },
  {
   "cell_type": "markdown",
   "metadata": {},
   "source": [
    "## 如何自行擴充Python科學運算套件(適合覺得套裝Python發行版本太佔電腦資源的人)\n",
    "\n",
    "上述Python發行版本固然安裝方便，但它們也包含了目前你可能不會用到的套件而佔掉電腦資源，若你目前只想要安裝基本常用的科學運算套件，等到以後有需要時再擴充其他套件，可選擇自行擴充Python科學運算套件。 因為Linux及Mac OS X 已內建Python直譯器，所以基本常用的科學運算套件可透過作業系統的套件管理工具 (apt-get install 、yum install、port install) 擴充：\n",
    "- Ubuntu & Debian Linux\n",
    "```shell\n",
    "sudo apt-get install python-numpy python-scipy python-matplotlib ipython ipython-notebook python-pandas python-sympy python-nose\n",
    "```\n",
    "- Fedora Linux\n",
    "```shell\n",
    "sudo dnf install numpy scipy python-matplotlib ipython python-pandas sympy python-nose atlas-devel\n",
    "```\n",
    "- Mac\n",
    "```shell\n",
    "sudo port install py35-numpy py35-scipy py35-matplotlib py35-ipython +notebook py35-pandas py35-sympy py35-nose\n",
    "```\n",
    "\n",
    "詳細請參考[安裝說明](http://www.scipy.org/install.html)。\n",
    "\n",
    "當有需要擴充其他套件時，可以透過Python 套件管理程式[pip](https://pip.pypa.io/en/stable)：\n",
    "- 先安裝pip ([安裝說明](https://pip.pypa.io/en/stable/installing.html)) (Python 3 >=3.4 或 Python 2 >=2.7.9 本身已內建pip套件，無需再安裝)\n",
    "- 再透過pip指令擴充其他套件:\n",
    "```shell\n",
    "pip install 欲安裝的套件名稱\n",
    "```"
   ]
  },
  {
   "cell_type": "markdown",
   "metadata": {},
   "source": [
    "## Anaconda發行版本的操作介面"
   ]
  },
  {
   "cell_type": "markdown",
   "metadata": {},
   "source": [
    "## 常見問題"
   ]
  }
 ],
 "metadata": {
  "kernelspec": {
   "display_name": "Python 3",
   "language": "python",
   "name": "python3"
  },
  "language_info": {
   "codemirror_mode": {
    "name": "ipython",
    "version": 3
   },
   "file_extension": ".py",
   "mimetype": "text/x-python",
   "name": "python",
   "nbconvert_exporter": "python",
   "pygments_lexer": "ipython3",
   "version": "3.6.0"
  }
 },
 "nbformat": 4,
 "nbformat_minor": 2
}
