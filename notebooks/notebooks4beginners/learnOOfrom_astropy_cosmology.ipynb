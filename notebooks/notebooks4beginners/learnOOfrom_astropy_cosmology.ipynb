{
 "cells": [
  {
   "cell_type": "markdown",
   "metadata": {
    "nbpresent": {
     "id": "7b5071b9-130e-4049-ae3b-98d89d36a965"
    },
    "slideshow": {
     "slide_type": "-"
    }
   },
   "source": [
    "# 自己的宇宙自己建 - 從astropy.cosmology模組中學物件導向\n",
    "\n",
    "* <a href=\"http://docs.astropy.org/en/stable/cosmology/\" target=\"_blank\">astropy.cosmology模組的範例說明文件</a>\n",
    "* <a href=\"https://github.com/astropy/astropy/blob/v1.2.x/astropy/cosmology/core.py\" target=\"_blank\">astropy.cosmology模組在GitHub上的原始碼</a>"
   ]
  },
  {
   "cell_type": "markdown",
   "metadata": {
    "nbpresent": {
     "id": "f54dda22-a987-4765-9a59-b7f788bf7f57"
    },
    "slideshow": {
     "slide_type": "-"
    }
   },
   "source": [
    "## 觀察astropy.cosmology模組中內建的宇宙物件"
   ]
  },
  {
   "cell_type": "markdown",
   "metadata": {},
   "source": [
    "* <a href=\"http://docs.astropy.org/en/stable/cosmology/#built-in-cosmologies\" target=\"_blank\">更多內建的宇宙物件</a>\n"
   ]
  },
  {
   "cell_type": "code",
   "execution_count": 1,
   "metadata": {
    "collapsed": false,
    "nbpresent": {
     "id": "c590fd2e-f35c-4565-a029-3ed2fe949ec7"
    }
   },
   "outputs": [
    {
     "name": "stdout",
     "output_type": "stream",
     "text": [
      "FlatLambdaCDM(name=\"WMAP9\", H0=69.3 km / (Mpc s), Om0=0.286, Tcmb0=2.725 K, Neff=3.04, m_nu=[ 0.  0.  0.] eV, Ob0=0.0463)\n",
      "FlatLambdaCDM(name=\"Planck15\", H0=67.7 km / (Mpc s), Om0=0.307, Tcmb0=2.725 K, Neff=3.05, m_nu=[ 0.    0.    0.06] eV, Ob0=0.0486)\n",
      "69.32 km / (Mpc s)\n",
      "0.3075\n",
      "11129.368906 Mpc\n",
      "[ 1945.56133293  3395.90552491  4479.04554197] Mpc\n"
     ]
    }
   ],
   "source": [
    "from astropy.cosmology import WMAP9, Planck15  # 從astropy.cosmology中引入兩個內建的宇宙物件\n",
    "print(WMAP9)        # WMAP9是以FlatLambdaCDM類別所產生的一個內建物件\n",
    "print(Planck15)     # Planck15是以FlatLambdaCDM類別所產生的另一個內建物件 \n",
    "print(WMAP9.H0)     # WMAP9物件的H0屬性\n",
    "print(Planck15.Om0) # Planck15物件的Om0屬性\n",
    "print(WMAP9.luminosity_distance(1.5))               # WMAP9物件中用以計算luminosity_distance的方法\n",
    "print(Planck15.comoving_distance([0.5, 1.0, 1.5]))  # Planck15物件中用以計算comoving_distance的方法"
   ]
  },
  {
   "cell_type": "markdown",
   "metadata": {},
   "source": [
    "## 使用不同的宇宙類別(模型)來產生不同的宇宙物件"
   ]
  },
  {
   "cell_type": "markdown",
   "metadata": {},
   "source": [
    "* 不同宇宙類別(模型)的簡介<a href=\"http://docs.astropy.org/en/stable/cosmology/index.html#specifying-a-dark-energy-model\" target=\"_blank\">1</a>, <a href=\"http://docs.astropy.org/en/stable/cosmology/index.html#classes\" target=\"_blank\">2</a>\n",
    "* <a href=\"http://docs.astropy.org/en/stable/cosmology/index.html#class-inheritance-diagram\" target=\"_blank\">不同宇宙類別(模型)的繼承關係圖</a>"
   ]
  },
  {
   "cell_type": "code",
   "execution_count": 2,
   "metadata": {
    "collapsed": false
   },
   "outputs": [
    {
     "name": "stdout",
     "output_type": "stream",
     "text": [
      "FlatLambdaCDM(name=\"MyUniverse1\", H0=70 km / (Mpc s), Om0=0.3, Tcmb0=2.725 K, Neff=3.04, m_nu=[ 0.  0.  0.] eV, Ob0=None)\n",
      "46638.0700856 Mpc\n",
      "[ 8.42128047  5.74698053  4.19645402] Gyr\n"
     ]
    }
   ],
   "source": [
    "from astropy.cosmology import FlatLambdaCDM  # 從astropy.cosmology中引入內建的FlatLambdaCDM宇宙類別(模型)\n",
    "my_universe1 = FlatLambdaCDM(name='MyUniverse1', H0=70, Om0=0.3)       # 利用FlatLambdaCDM類別來產生一個宇宙物件\n",
    "print(my_universe1)\n",
    "print(my_universe1.luminosity_distance(5))\n",
    "print(my_universe1.age([0.5, 1, 1.5]))"
   ]
  },
  {
   "cell_type": "code",
   "execution_count": 3,
   "metadata": {
    "collapsed": false
   },
   "outputs": [
    {
     "name": "stdout",
     "output_type": "stream",
     "text": [
      "LambdaCDM(name=\"MyUniverse2\", H0=70 km / (Mpc s), Om0=0.3, Ode0=0.7, Tcmb0=2.725 K, Neff=3.04, m_nu=[ 0.  0.  0.] eV, Ob0=None)\n",
      "46637.341966 Mpc\n",
      "[ 8.42156575  5.74716698  4.19657564] Gyr\n"
     ]
    }
   ],
   "source": [
    "from astropy.cosmology import LambdaCDM       # 從astropy.cosmology中引入內建的LambdaCDM宇宙類別(模型)\n",
    "my_universe2 = LambdaCDM(name='MyUniverse2', H0=70, Om0=0.3, Ode0=0.7)  # 利用LambdaCDM類別來產生一個宇宙物件\n",
    "print(my_universe2)\n",
    "print(my_universe2.luminosity_distance(5))\n",
    "print(my_universe2.age([0.5, 1, 1.5]))"
   ]
  },
  {
   "cell_type": "markdown",
   "metadata": {},
   "source": [
    "## 從以上例子我們學到了什麼?"
   ]
  },
  {
   "cell_type": "markdown",
   "metadata": {},
   "source": [
    "* 類別(class)是用以產生多個具有共通屬性(attribute)和方法(method)的物件(object)的模型\n",
    "* 屬於同個類別的不同物件， 其屬性能有相同或不同的值\n",
    "  \n",
    "  例如: WMAP9, Planck15和my_universe1都是由FlatLambdaCDM類別(模型)所產生的物件，在共通的屬性中，Tcmb0有相同的值，H0則是不同的值"
   ]
  },
  {
   "cell_type": "code",
   "execution_count": 4,
   "metadata": {
    "collapsed": false
   },
   "outputs": [
    {
     "name": "stdout",
     "output_type": "stream",
     "text": [
      "FlatLambdaCDM(name=\"WMAP9\", H0=69.3 km / (Mpc s), Om0=0.286, Tcmb0=2.725 K, Neff=3.04, m_nu=[ 0.  0.  0.] eV, Ob0=0.0463)\n",
      "FlatLambdaCDM(name=\"Planck15\", H0=67.7 km / (Mpc s), Om0=0.307, Tcmb0=2.725 K, Neff=3.05, m_nu=[ 0.    0.    0.06] eV, Ob0=0.0486)\n",
      "FlatLambdaCDM(name=\"MyUniverse1\", H0=70 km / (Mpc s), Om0=0.3, Tcmb0=2.725 K, Neff=3.04, m_nu=[ 0.  0.  0.] eV, Ob0=None)\n"
     ]
    }
   ],
   "source": [
    "print(WMAP9)\n",
    "print(Planck15)\n",
    "print(my_universe1)"
   ]
  },
  {
   "cell_type": "markdown",
   "metadata": {},
   "source": [
    "* 物件的方法如同函式(function), 但它們可以直接在內部存取物件的屬性\n",
    "\n",
    "  例如: 我們可用WMAP9, Planck15, my_universe1這三個物件共有的方法luminosity_distance來計算所屬的光度距離, 但只要輸入紅移值, 不用輸入計算過程中所需的物理量, 像是H0"
   ]
  },
  {
   "cell_type": "code",
   "execution_count": 5,
   "metadata": {
    "collapsed": false
   },
   "outputs": [
    {
     "name": "stdout",
     "output_type": "stream",
     "text": [
      "[  2874.10413541   6726.14128666  11129.36890604] Mpc\n",
      "[  2918.34199939   6791.81104983  11197.61385493] Mpc\n",
      "[  2832.80666912   6607.05290608  10908.21504547] Mpc\n"
     ]
    }
   ],
   "source": [
    "print(WMAP9.luminosity_distance([0.5, 1, 1.5]))\n",
    "print(Planck15.luminosity_distance([0.5, 1, 1.5]))\n",
    "print(my_universe1.luminosity_distance([0.5, 1, 1.5]))"
   ]
  },
  {
   "cell_type": "markdown",
   "metadata": {},
   "source": [
    "* 某物件是某類別的一個實例(instance)\n",
    "\n",
    "  例如: 內建的WMAP9物件是FlatLambdaCDM類別的一個實例"
   ]
  },
  {
   "cell_type": "code",
   "execution_count": 6,
   "metadata": {
    "collapsed": false
   },
   "outputs": [
    {
     "name": "stdout",
     "output_type": "stream",
     "text": [
      "WMAP9 instance of FlatLambdaCDM cosmology\n",
      "\n",
      "(from Hinshaw et al. 2013, ApJS, 208, 19, doi: 10.1088/0067-0049/208/2/19. Table 4 (WMAP9 + eCMB + BAO + H0, last column))\n"
     ]
    }
   ],
   "source": [
    "print(WMAP9.__doc__)"
   ]
  },
  {
   "cell_type": "markdown",
   "metadata": {},
   "source": [
    "* 類別的封裝(encapsulation)特性讓使用者不必在意程式內部的細節, 直接使用開發者提供的介面即可\n",
    "\n",
    "  例如: 我們要產生屬於特定類別的物件時可以直接使用<a href=\"http://docs.astropy.org/en/stable/cosmology/index.html#reference-api\" target=\"_blank\">astropy.cosmology模組所提供的的應用程式介面(API)</a>"
   ]
  },
  {
   "cell_type": "markdown",
   "metadata": {},
   "source": [
    "* 子父類別間的繼承(inheritance)可讓程式開發者定義類別時避免重複定義不同類別間相同的屬性和方法, 而且能複寫或新增屬性和方法\n",
    "\n",
    "  例如: 在astropy.cosmology模組中, 開發者先定義一個用以描述均勻且均向的宇宙類別FLRW, 該類別中定義了所屬物件共通的屬性和方法, 像是luminosity_distance(), 當開發者要進一步定義FLRW中的一個特例類別LambdaCDM(均勻且均向的宇宙, 且考慮宇宙常數和曲率的類別)時, 無需重複定義共通的屬性和方法, 只需針對特例點來複寫或新增屬性和方法。 同樣的繼承關係也適用於LambdaCDM的特例類別FlatLambdaCDM(均勻且均向的宇宙, 考慮宇宙常數但曲率為零的類別)。"
   ]
  }
 ],
 "metadata": {
  "anaconda-cloud": {},
  "kernelspec": {
   "display_name": "Python [Root]",
   "language": "python",
   "name": "Python [Root]"
  },
  "language_info": {
   "codemirror_mode": {
    "name": "ipython",
    "version": 2
   },
   "file_extension": ".py",
   "mimetype": "text/x-python",
   "name": "python",
   "nbconvert_exporter": "python",
   "pygments_lexer": "ipython2",
   "version": "2.7.12"
  },
  "nbpresent": {
   "slides": {
    "1982ddf5-3cbf-4d3e-a9e1-854310331805": {
     "id": "1982ddf5-3cbf-4d3e-a9e1-854310331805",
     "prev": "cd832ae7-b5e0-4312-a233-cd50346bc764",
     "regions": {
      "46333d11-7ecb-4d3b-9ae6-f3c922728593": {
       "attrs": {
        "height": 1,
        "width": 1,
        "x": 0,
        "y": 0
       },
       "id": "46333d11-7ecb-4d3b-9ae6-f3c922728593"
      },
      "52ecb0ee-eaa2-4be8-a606-36a7514351be": {
       "attrs": {
        "height": 0.8,
        "width": 0.8,
        "x": 0.1,
        "y": 0.1
       },
       "id": "52ecb0ee-eaa2-4be8-a606-36a7514351be"
      }
     }
    },
    "91369003-70fb-4f85-8f86-c9b5b3468dde": {
     "id": "91369003-70fb-4f85-8f86-c9b5b3468dde",
     "prev": "dfb82e35-d805-4328-8875-99d13b196c88",
     "regions": {
      "d6697483-14d1-4e21-9cf2-a09643aff254": {
       "attrs": {
        "height": 0.8,
        "width": 0.8,
        "x": 0.1,
        "y": 0.1
       },
       "content": {
        "cell": "f54dda22-a987-4765-9a59-b7f788bf7f57",
        "part": "whole"
       },
       "id": "d6697483-14d1-4e21-9cf2-a09643aff254"
      }
     }
    },
    "cd832ae7-b5e0-4312-a233-cd50346bc764": {
     "id": "cd832ae7-b5e0-4312-a233-cd50346bc764",
     "prev": "91369003-70fb-4f85-8f86-c9b5b3468dde",
     "regions": {
      "1f605c34-d778-49c8-bd23-70f620ce9c0c": {
       "attrs": {
        "height": 0.8,
        "width": 0.8,
        "x": 0.1,
        "y": 0.1
       },
       "id": "1f605c34-d778-49c8-bd23-70f620ce9c0c"
      },
      "26e011c0-18d6-42dc-878a-56c8975e9ef2": {
       "attrs": {
        "height": 1,
        "width": 1,
        "x": 0,
        "y": 0
       },
       "id": "26e011c0-18d6-42dc-878a-56c8975e9ef2"
      }
     }
    },
    "dfb82e35-d805-4328-8875-99d13b196c88": {
     "id": "dfb82e35-d805-4328-8875-99d13b196c88",
     "prev": null,
     "regions": {
      "c67e4958-e07d-4991-949f-7092c854db03": {
       "attrs": {
        "height": 0.8,
        "width": 0.8,
        "x": 0.1,
        "y": 0.1
       },
       "content": {
        "cell": "7b5071b9-130e-4049-ae3b-98d89d36a965",
        "part": "source"
       },
       "id": "c67e4958-e07d-4991-949f-7092c854db03"
      }
     }
    }
   },
   "themes": {}
  }
 },
 "nbformat": 4,
 "nbformat_minor": 0
}
